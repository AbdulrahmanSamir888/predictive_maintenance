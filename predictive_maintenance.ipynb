{
 "cells": [
  {
   "cell_type": "markdown",
   "id": "b483194c-9f65-4d31-98b3-2b0e5adaa88b",
   "metadata": {},
   "source": [
    "## reading the data"
   ]
  },
  {
   "cell_type": "code",
   "execution_count": 1,
   "id": "8ffb97e5-f060-4e65-b0c6-8a310eb1620c",
   "metadata": {},
   "outputs": [],
   "source": [
    "import pandas as pd\n",
    "data=pd.read_csv(r\"C:\\Users\\mohamed\\Downloads\\predictive_maintenance.csv\")"
   ]
  },
  {
   "cell_type": "code",
   "execution_count": 2,
   "id": "2ea4d502-0d6b-43e0-931e-aae806161dc8",
   "metadata": {},
   "outputs": [
    {
     "data": {
      "text/html": [
       "<div>\n",
       "<style scoped>\n",
       "    .dataframe tbody tr th:only-of-type {\n",
       "        vertical-align: middle;\n",
       "    }\n",
       "\n",
       "    .dataframe tbody tr th {\n",
       "        vertical-align: top;\n",
       "    }\n",
       "\n",
       "    .dataframe thead th {\n",
       "        text-align: right;\n",
       "    }\n",
       "</style>\n",
       "<table border=\"1\" class=\"dataframe\">\n",
       "  <thead>\n",
       "    <tr style=\"text-align: right;\">\n",
       "      <th></th>\n",
       "      <th>UDI</th>\n",
       "      <th>Product ID</th>\n",
       "      <th>Type</th>\n",
       "      <th>Air temperature [K]</th>\n",
       "      <th>Process temperature [K]</th>\n",
       "      <th>Rotational speed [rpm]</th>\n",
       "      <th>Torque [Nm]</th>\n",
       "      <th>Tool wear [min]</th>\n",
       "      <th>Target</th>\n",
       "      <th>Failure Type</th>\n",
       "    </tr>\n",
       "  </thead>\n",
       "  <tbody>\n",
       "    <tr>\n",
       "      <th>0</th>\n",
       "      <td>1</td>\n",
       "      <td>M14860</td>\n",
       "      <td>M</td>\n",
       "      <td>298.1</td>\n",
       "      <td>308.6</td>\n",
       "      <td>1551</td>\n",
       "      <td>42.8</td>\n",
       "      <td>0</td>\n",
       "      <td>0</td>\n",
       "      <td>No Failure</td>\n",
       "    </tr>\n",
       "    <tr>\n",
       "      <th>1</th>\n",
       "      <td>2</td>\n",
       "      <td>L47181</td>\n",
       "      <td>L</td>\n",
       "      <td>298.2</td>\n",
       "      <td>308.7</td>\n",
       "      <td>1408</td>\n",
       "      <td>46.3</td>\n",
       "      <td>3</td>\n",
       "      <td>0</td>\n",
       "      <td>No Failure</td>\n",
       "    </tr>\n",
       "    <tr>\n",
       "      <th>2</th>\n",
       "      <td>3</td>\n",
       "      <td>L47182</td>\n",
       "      <td>L</td>\n",
       "      <td>298.1</td>\n",
       "      <td>308.5</td>\n",
       "      <td>1498</td>\n",
       "      <td>49.4</td>\n",
       "      <td>5</td>\n",
       "      <td>0</td>\n",
       "      <td>No Failure</td>\n",
       "    </tr>\n",
       "    <tr>\n",
       "      <th>3</th>\n",
       "      <td>4</td>\n",
       "      <td>L47183</td>\n",
       "      <td>L</td>\n",
       "      <td>298.2</td>\n",
       "      <td>308.6</td>\n",
       "      <td>1433</td>\n",
       "      <td>39.5</td>\n",
       "      <td>7</td>\n",
       "      <td>0</td>\n",
       "      <td>No Failure</td>\n",
       "    </tr>\n",
       "    <tr>\n",
       "      <th>4</th>\n",
       "      <td>5</td>\n",
       "      <td>L47184</td>\n",
       "      <td>L</td>\n",
       "      <td>298.2</td>\n",
       "      <td>308.7</td>\n",
       "      <td>1408</td>\n",
       "      <td>40.0</td>\n",
       "      <td>9</td>\n",
       "      <td>0</td>\n",
       "      <td>No Failure</td>\n",
       "    </tr>\n",
       "    <tr>\n",
       "      <th>...</th>\n",
       "      <td>...</td>\n",
       "      <td>...</td>\n",
       "      <td>...</td>\n",
       "      <td>...</td>\n",
       "      <td>...</td>\n",
       "      <td>...</td>\n",
       "      <td>...</td>\n",
       "      <td>...</td>\n",
       "      <td>...</td>\n",
       "      <td>...</td>\n",
       "    </tr>\n",
       "    <tr>\n",
       "      <th>9995</th>\n",
       "      <td>9996</td>\n",
       "      <td>M24855</td>\n",
       "      <td>M</td>\n",
       "      <td>298.8</td>\n",
       "      <td>308.4</td>\n",
       "      <td>1604</td>\n",
       "      <td>29.5</td>\n",
       "      <td>14</td>\n",
       "      <td>0</td>\n",
       "      <td>No Failure</td>\n",
       "    </tr>\n",
       "    <tr>\n",
       "      <th>9996</th>\n",
       "      <td>9997</td>\n",
       "      <td>H39410</td>\n",
       "      <td>H</td>\n",
       "      <td>298.9</td>\n",
       "      <td>308.4</td>\n",
       "      <td>1632</td>\n",
       "      <td>31.8</td>\n",
       "      <td>17</td>\n",
       "      <td>0</td>\n",
       "      <td>No Failure</td>\n",
       "    </tr>\n",
       "    <tr>\n",
       "      <th>9997</th>\n",
       "      <td>9998</td>\n",
       "      <td>M24857</td>\n",
       "      <td>M</td>\n",
       "      <td>299.0</td>\n",
       "      <td>308.6</td>\n",
       "      <td>1645</td>\n",
       "      <td>33.4</td>\n",
       "      <td>22</td>\n",
       "      <td>0</td>\n",
       "      <td>No Failure</td>\n",
       "    </tr>\n",
       "    <tr>\n",
       "      <th>9998</th>\n",
       "      <td>9999</td>\n",
       "      <td>H39412</td>\n",
       "      <td>H</td>\n",
       "      <td>299.0</td>\n",
       "      <td>308.7</td>\n",
       "      <td>1408</td>\n",
       "      <td>48.5</td>\n",
       "      <td>25</td>\n",
       "      <td>0</td>\n",
       "      <td>No Failure</td>\n",
       "    </tr>\n",
       "    <tr>\n",
       "      <th>9999</th>\n",
       "      <td>10000</td>\n",
       "      <td>M24859</td>\n",
       "      <td>M</td>\n",
       "      <td>299.0</td>\n",
       "      <td>308.7</td>\n",
       "      <td>1500</td>\n",
       "      <td>40.2</td>\n",
       "      <td>30</td>\n",
       "      <td>0</td>\n",
       "      <td>No Failure</td>\n",
       "    </tr>\n",
       "  </tbody>\n",
       "</table>\n",
       "<p>10000 rows × 10 columns</p>\n",
       "</div>"
      ],
      "text/plain": [
       "        UDI Product ID Type  Air temperature [K]  Process temperature [K]  \\\n",
       "0         1     M14860    M                298.1                    308.6   \n",
       "1         2     L47181    L                298.2                    308.7   \n",
       "2         3     L47182    L                298.1                    308.5   \n",
       "3         4     L47183    L                298.2                    308.6   \n",
       "4         5     L47184    L                298.2                    308.7   \n",
       "...     ...        ...  ...                  ...                      ...   \n",
       "9995   9996     M24855    M                298.8                    308.4   \n",
       "9996   9997     H39410    H                298.9                    308.4   \n",
       "9997   9998     M24857    M                299.0                    308.6   \n",
       "9998   9999     H39412    H                299.0                    308.7   \n",
       "9999  10000     M24859    M                299.0                    308.7   \n",
       "\n",
       "      Rotational speed [rpm]  Torque [Nm]  Tool wear [min]  Target  \\\n",
       "0                       1551         42.8                0       0   \n",
       "1                       1408         46.3                3       0   \n",
       "2                       1498         49.4                5       0   \n",
       "3                       1433         39.5                7       0   \n",
       "4                       1408         40.0                9       0   \n",
       "...                      ...          ...              ...     ...   \n",
       "9995                    1604         29.5               14       0   \n",
       "9996                    1632         31.8               17       0   \n",
       "9997                    1645         33.4               22       0   \n",
       "9998                    1408         48.5               25       0   \n",
       "9999                    1500         40.2               30       0   \n",
       "\n",
       "     Failure Type  \n",
       "0      No Failure  \n",
       "1      No Failure  \n",
       "2      No Failure  \n",
       "3      No Failure  \n",
       "4      No Failure  \n",
       "...           ...  \n",
       "9995   No Failure  \n",
       "9996   No Failure  \n",
       "9997   No Failure  \n",
       "9998   No Failure  \n",
       "9999   No Failure  \n",
       "\n",
       "[10000 rows x 10 columns]"
      ]
     },
     "execution_count": 2,
     "metadata": {},
     "output_type": "execute_result"
    }
   ],
   "source": [
    "data"
   ]
  },
  {
   "cell_type": "markdown",
   "id": "f6b83f01-10ff-4a2c-a5d7-09252f78a5e0",
   "metadata": {},
   "source": [
    "## understanding the data"
   ]
  },
  {
   "cell_type": "code",
   "execution_count": 3,
   "id": "02e40791-472f-4cc7-ae5e-cefe4c0b03d3",
   "metadata": {},
   "outputs": [
    {
     "name": "stdout",
     "output_type": "stream",
     "text": [
      "<class 'pandas.core.frame.DataFrame'>\n",
      "RangeIndex: 10000 entries, 0 to 9999\n",
      "Data columns (total 10 columns):\n",
      " #   Column                   Non-Null Count  Dtype  \n",
      "---  ------                   --------------  -----  \n",
      " 0   UDI                      10000 non-null  int64  \n",
      " 1   Product ID               10000 non-null  object \n",
      " 2   Type                     10000 non-null  object \n",
      " 3   Air temperature [K]      10000 non-null  float64\n",
      " 4   Process temperature [K]  10000 non-null  float64\n",
      " 5   Rotational speed [rpm]   10000 non-null  int64  \n",
      " 6   Torque [Nm]              10000 non-null  float64\n",
      " 7   Tool wear [min]          10000 non-null  int64  \n",
      " 8   Target                   10000 non-null  int64  \n",
      " 9   Failure Type             10000 non-null  object \n",
      "dtypes: float64(3), int64(4), object(3)\n",
      "memory usage: 781.4+ KB\n"
     ]
    }
   ],
   "source": [
    "data.info()"
   ]
  },
  {
   "cell_type": "code",
   "execution_count": 4,
   "id": "8b7ab3d8-7e5f-42b4-b184-b00fc5a5a124",
   "metadata": {},
   "outputs": [
    {
     "data": {
      "text/html": [
       "<div>\n",
       "<style scoped>\n",
       "    .dataframe tbody tr th:only-of-type {\n",
       "        vertical-align: middle;\n",
       "    }\n",
       "\n",
       "    .dataframe tbody tr th {\n",
       "        vertical-align: top;\n",
       "    }\n",
       "\n",
       "    .dataframe thead th {\n",
       "        text-align: right;\n",
       "    }\n",
       "</style>\n",
       "<table border=\"1\" class=\"dataframe\">\n",
       "  <thead>\n",
       "    <tr style=\"text-align: right;\">\n",
       "      <th></th>\n",
       "      <th>UDI</th>\n",
       "      <th>Air temperature [K]</th>\n",
       "      <th>Process temperature [K]</th>\n",
       "      <th>Rotational speed [rpm]</th>\n",
       "      <th>Torque [Nm]</th>\n",
       "      <th>Tool wear [min]</th>\n",
       "      <th>Target</th>\n",
       "    </tr>\n",
       "  </thead>\n",
       "  <tbody>\n",
       "    <tr>\n",
       "      <th>count</th>\n",
       "      <td>10000.00000</td>\n",
       "      <td>10000.000000</td>\n",
       "      <td>10000.000000</td>\n",
       "      <td>10000.000000</td>\n",
       "      <td>10000.000000</td>\n",
       "      <td>10000.000000</td>\n",
       "      <td>10000.000000</td>\n",
       "    </tr>\n",
       "    <tr>\n",
       "      <th>mean</th>\n",
       "      <td>5000.50000</td>\n",
       "      <td>300.004930</td>\n",
       "      <td>310.005560</td>\n",
       "      <td>1538.776100</td>\n",
       "      <td>39.986910</td>\n",
       "      <td>107.951000</td>\n",
       "      <td>0.033900</td>\n",
       "    </tr>\n",
       "    <tr>\n",
       "      <th>std</th>\n",
       "      <td>2886.89568</td>\n",
       "      <td>2.000259</td>\n",
       "      <td>1.483734</td>\n",
       "      <td>179.284096</td>\n",
       "      <td>9.968934</td>\n",
       "      <td>63.654147</td>\n",
       "      <td>0.180981</td>\n",
       "    </tr>\n",
       "    <tr>\n",
       "      <th>min</th>\n",
       "      <td>1.00000</td>\n",
       "      <td>295.300000</td>\n",
       "      <td>305.700000</td>\n",
       "      <td>1168.000000</td>\n",
       "      <td>3.800000</td>\n",
       "      <td>0.000000</td>\n",
       "      <td>0.000000</td>\n",
       "    </tr>\n",
       "    <tr>\n",
       "      <th>25%</th>\n",
       "      <td>2500.75000</td>\n",
       "      <td>298.300000</td>\n",
       "      <td>308.800000</td>\n",
       "      <td>1423.000000</td>\n",
       "      <td>33.200000</td>\n",
       "      <td>53.000000</td>\n",
       "      <td>0.000000</td>\n",
       "    </tr>\n",
       "    <tr>\n",
       "      <th>50%</th>\n",
       "      <td>5000.50000</td>\n",
       "      <td>300.100000</td>\n",
       "      <td>310.100000</td>\n",
       "      <td>1503.000000</td>\n",
       "      <td>40.100000</td>\n",
       "      <td>108.000000</td>\n",
       "      <td>0.000000</td>\n",
       "    </tr>\n",
       "    <tr>\n",
       "      <th>75%</th>\n",
       "      <td>7500.25000</td>\n",
       "      <td>301.500000</td>\n",
       "      <td>311.100000</td>\n",
       "      <td>1612.000000</td>\n",
       "      <td>46.800000</td>\n",
       "      <td>162.000000</td>\n",
       "      <td>0.000000</td>\n",
       "    </tr>\n",
       "    <tr>\n",
       "      <th>max</th>\n",
       "      <td>10000.00000</td>\n",
       "      <td>304.500000</td>\n",
       "      <td>313.800000</td>\n",
       "      <td>2886.000000</td>\n",
       "      <td>76.600000</td>\n",
       "      <td>253.000000</td>\n",
       "      <td>1.000000</td>\n",
       "    </tr>\n",
       "  </tbody>\n",
       "</table>\n",
       "</div>"
      ],
      "text/plain": [
       "               UDI  Air temperature [K]  Process temperature [K]  \\\n",
       "count  10000.00000         10000.000000             10000.000000   \n",
       "mean    5000.50000           300.004930               310.005560   \n",
       "std     2886.89568             2.000259                 1.483734   \n",
       "min        1.00000           295.300000               305.700000   \n",
       "25%     2500.75000           298.300000               308.800000   \n",
       "50%     5000.50000           300.100000               310.100000   \n",
       "75%     7500.25000           301.500000               311.100000   \n",
       "max    10000.00000           304.500000               313.800000   \n",
       "\n",
       "       Rotational speed [rpm]   Torque [Nm]  Tool wear [min]        Target  \n",
       "count            10000.000000  10000.000000     10000.000000  10000.000000  \n",
       "mean              1538.776100     39.986910       107.951000      0.033900  \n",
       "std                179.284096      9.968934        63.654147      0.180981  \n",
       "min               1168.000000      3.800000         0.000000      0.000000  \n",
       "25%               1423.000000     33.200000        53.000000      0.000000  \n",
       "50%               1503.000000     40.100000       108.000000      0.000000  \n",
       "75%               1612.000000     46.800000       162.000000      0.000000  \n",
       "max               2886.000000     76.600000       253.000000      1.000000  "
      ]
     },
     "execution_count": 4,
     "metadata": {},
     "output_type": "execute_result"
    }
   ],
   "source": [
    "data.describe()"
   ]
  },
  {
   "cell_type": "markdown",
   "id": "a7c204c6-d749-4445-8b39-02c76896df3c",
   "metadata": {},
   "source": [
    "## feature selection1"
   ]
  },
  {
   "cell_type": "code",
   "execution_count": 5,
   "id": "d141fd2d-0f38-4976-8ab2-e5952b64dc82",
   "metadata": {},
   "outputs": [],
   "source": [
    "data.drop([\"Failure Type\",\"UDI\"],inplace=True,axis=1)"
   ]
  },
  {
   "cell_type": "markdown",
   "id": "4018a7e0-5b50-4daf-aabe-bbc8deceb90e",
   "metadata": {},
   "source": [
    "## check nulls"
   ]
  },
  {
   "cell_type": "code",
   "execution_count": 6,
   "id": "37cc2e64-3c39-4ca7-8e88-0634179ddf26",
   "metadata": {},
   "outputs": [
    {
     "data": {
      "text/plain": [
       "Product ID                 0\n",
       "Type                       0\n",
       "Air temperature [K]        0\n",
       "Process temperature [K]    0\n",
       "Rotational speed [rpm]     0\n",
       "Torque [Nm]                0\n",
       "Tool wear [min]            0\n",
       "Target                     0\n",
       "dtype: int64"
      ]
     },
     "execution_count": 6,
     "metadata": {},
     "output_type": "execute_result"
    }
   ],
   "source": [
    "data.isna().sum()"
   ]
  },
  {
   "cell_type": "markdown",
   "id": "cf52ad16-113a-40cf-8fc6-603070fd44dd",
   "metadata": {},
   "source": [
    "## check nulls"
   ]
  },
  {
   "cell_type": "markdown",
   "id": "3bddf521-0295-4cfd-8789-a874a5bf6d25",
   "metadata": {},
   "source": [
    "## check dublicated"
   ]
  },
  {
   "cell_type": "code",
   "execution_count": 7,
   "id": "dfa670b5-e44a-4da2-8c16-18063d806a2a",
   "metadata": {},
   "outputs": [
    {
     "data": {
      "text/plain": [
       "0"
      ]
     },
     "execution_count": 7,
     "metadata": {},
     "output_type": "execute_result"
    }
   ],
   "source": [
    "data.duplicated().sum()"
   ]
  },
  {
   "cell_type": "markdown",
   "id": "8bc51ede-207d-486a-9518-010401f472be",
   "metadata": {},
   "source": [
    "## outlayers"
   ]
  },
  {
   "cell_type": "code",
   "execution_count": 8,
   "id": "860a448c-c85a-40bf-aed0-f202380b2a3b",
   "metadata": {},
   "outputs": [
    {
     "name": "stdout",
     "output_type": "stream",
     "text": [
      "Air temperature [K]\n",
      "count    10000.000000\n",
      "mean       300.004930\n",
      "std          2.000259\n",
      "min        295.300000\n",
      "25%        298.300000\n",
      "50%        300.100000\n",
      "75%        301.500000\n",
      "max        304.500000\n",
      "Name: Air temperature [K], dtype: float64\n",
      "Process temperature [K]\n",
      "count    10000.000000\n",
      "mean       310.005560\n",
      "std          1.483734\n",
      "min        305.700000\n",
      "25%        308.800000\n",
      "50%        310.100000\n",
      "75%        311.100000\n",
      "max        313.800000\n",
      "Name: Process temperature [K], dtype: float64\n",
      "Rotational speed [rpm]\n",
      "count    10000.000000\n",
      "mean      1538.776100\n",
      "std        179.284096\n",
      "min       1168.000000\n",
      "25%       1423.000000\n",
      "50%       1503.000000\n",
      "75%       1612.000000\n",
      "max       2886.000000\n",
      "Name: Rotational speed [rpm], dtype: float64\n",
      "Torque [Nm]\n",
      "count    10000.000000\n",
      "mean        39.986910\n",
      "std          9.968934\n",
      "min          3.800000\n",
      "25%         33.200000\n",
      "50%         40.100000\n",
      "75%         46.800000\n",
      "max         76.600000\n",
      "Name: Torque [Nm], dtype: float64\n",
      "Tool wear [min]\n",
      "count    10000.000000\n",
      "mean       107.951000\n",
      "std         63.654147\n",
      "min          0.000000\n",
      "25%         53.000000\n",
      "50%        108.000000\n",
      "75%        162.000000\n",
      "max        253.000000\n",
      "Name: Tool wear [min], dtype: float64\n",
      "Target\n",
      "count    10000.000000\n",
      "mean         0.033900\n",
      "std          0.180981\n",
      "min          0.000000\n",
      "25%          0.000000\n",
      "50%          0.000000\n",
      "75%          0.000000\n",
      "max          1.000000\n",
      "Name: Target, dtype: float64\n"
     ]
    }
   ],
   "source": [
    "for i in data.columns:\n",
    "    if(data[i].dtype in [\"int64\",\"float64\"]):\n",
    "        print(i)\n",
    "        print(data[i].describe())"
   ]
  },
  {
   "cell_type": "code",
   "execution_count": 9,
   "id": "330fb1c7-c19b-4702-a5fe-82f915441834",
   "metadata": {},
   "outputs": [],
   "source": [
    "import matplotlib.pyplot as plt"
   ]
  },
  {
   "cell_type": "code",
   "execution_count": 10,
   "id": "8e9636bd-304a-4b1e-a5c2-6e6784e7d3c7",
   "metadata": {},
   "outputs": [
    {
     "data": {
      "image/png": "[encoded data removed]",
      "text/plain": [
       "<Figure size 640x480 with 1 Axes>"
      ]
     },
     "metadata": {},
     "output_type": "display_data"
    },
    {
     "data": {
      "image/png": "[encoded data removed]",
      "text/plain": [
       "<Figure size 640x480 with 1 Axes>"
      ]
     },
     "metadata": {},
     "output_type": "display_data"
    },
    {
     "data": {
      "image/png": "[encoded data removed]",
      "text/plain": [
       "<Figure size 640x480 with 1 Axes>"
      ]
     },
     "metadata": {},
     "output_type": "display_data"
    },
    {
     "data": {
      "image/png": "[encoded data removed]",
      "text/plain": [
       "<Figure size 640x480 with 1 Axes>"
      ]
     },
     "metadata": {},
     "output_type": "display_data"
    },
    {
     "data": {
      "image/png": "[encoded data removed]",
      "text/plain": [
       "<Figure size 640x480 with 1 Axes>"
      ]
     },
     "metadata": {},
     "output_type": "display_data"
    },
    {
     "data": {
      "image/png": "[encoded data removed]",
      "text/plain": [
       "<Figure size 640x480 with 1 Axes>"
      ]
     },
     "metadata": {},
     "output_type": "display_data"
    }
   ],
   "source": [
    "for i in data.columns:\n",
    "    if(data[i].dtype in [\"int64\",\"float64\"]):\n",
    "        data.boxplot(i)\n",
    "        plt.show()   "
   ]
  },
  {
   "cell_type": "code",
   "execution_count": 11,
   "id": "7703a69a-aec0-4180-b06a-49a73e97fc22",
   "metadata": {},
   "outputs": [
    {
     "name": "stdout",
     "output_type": "stream",
     "text": [
      "max is1895.5\n",
      "min is1139.5\n",
      "shape of outlayerrpm :(418, 8)\n",
      "shape of data :(9582, 8)\n"
     ]
    }
   ],
   "source": [
    "Q1=data[\"Rotational speed [rpm]\"].quantile(0.25)\n",
    "Q3=data[\"Rotational speed [rpm]\"].quantile(0.75)\n",
    "iqr=Q3-Q1\n",
    "max=Q3+(iqr*1.5)\n",
    "min=Q1-(iqr*1.5)\n",
    "print(f\"max is{max}\")\n",
    "print(f\"min is{min}\")\n",
    "outlayerrpm=data[(data[\"Rotational speed [rpm]\"]>max) | (data[\"Rotational speed [rpm]\"]<min)]\n",
    "data=data[(data[\"Rotational speed [rpm]\"]<=max) & (data[\"Rotational speed [rpm]\"]>=min)]\n",
    "print(f\"shape of outlayerrpm :{outlayerrpm.shape}\")\n",
    "print(f\"shape of data :{data.shape}\")"
   ]
  },
  {
   "cell_type": "code",
   "execution_count": 12,
   "id": "2a099942-3985-4e16-ba7f-c21741808632",
   "metadata": {},
   "outputs": [
    {
     "name": "stdout",
     "output_type": "stream",
     "text": [
      "max is66.45\n",
      "min is14.850000000000005\n",
      "shape of outlayerNm :(47, 8)\n",
      "shape of data :(9535, 8)\n"
     ]
    }
   ],
   "source": [
    "Q1=data[\"Torque [Nm]\"].quantile(0.25)\n",
    "Q3=data[\"Torque [Nm]\"].quantile(0.75)\n",
    "iqr=Q3-Q1\n",
    "max=Q3+(iqr*1.5)\n",
    "min=Q1-(iqr*1.5)\n",
    "print(f\"max is{max}\")\n",
    "print(f\"min is{min}\")\n",
    "outlayerNm = data[(data[\"Torque [Nm]\"] > max) | (data[\"Torque [Nm]\"] < min)]\n",
    "\n",
    "data=data[(data[\"Torque [Nm]\"]<=max) & (data[\"Torque [Nm]\"]>=min)]\n",
    "print(f\"shape of outlayerNm :{outlayerNm.shape}\")\n",
    "print(f\"shape of data :{data.shape}\")"
   ]
  },
  {
   "cell_type": "code",
   "execution_count": 13,
   "id": "043d81c7-6c65-497f-8826-1fab666c0b2e",
   "metadata": {},
   "outputs": [
    {
     "data": {
      "text/html": [
       "<div>\n",
       "<style scoped>\n",
       "    .dataframe tbody tr th:only-of-type {\n",
       "        vertical-align: middle;\n",
       "    }\n",
       "\n",
       "    .dataframe tbody tr th {\n",
       "        vertical-align: top;\n",
       "    }\n",
       "\n",
       "    .dataframe thead th {\n",
       "        text-align: right;\n",
       "    }\n",
       "</style>\n",
       "<table border=\"1\" class=\"dataframe\">\n",
       "  <thead>\n",
       "    <tr style=\"text-align: right;\">\n",
       "      <th></th>\n",
       "      <th>Product ID</th>\n",
       "      <th>Type</th>\n",
       "      <th>Air temperature [K]</th>\n",
       "      <th>Process temperature [K]</th>\n",
       "      <th>Rotational speed [rpm]</th>\n",
       "      <th>Torque [Nm]</th>\n",
       "      <th>Tool wear [min]</th>\n",
       "      <th>Target</th>\n",
       "    </tr>\n",
       "  </thead>\n",
       "  <tbody>\n",
       "    <tr>\n",
       "      <th>0</th>\n",
       "      <td>M14860</td>\n",
       "      <td>M</td>\n",
       "      <td>298.1</td>\n",
       "      <td>308.6</td>\n",
       "      <td>1551</td>\n",
       "      <td>42.8</td>\n",
       "      <td>0</td>\n",
       "      <td>0</td>\n",
       "    </tr>\n",
       "    <tr>\n",
       "      <th>1</th>\n",
       "      <td>L47181</td>\n",
       "      <td>L</td>\n",
       "      <td>298.2</td>\n",
       "      <td>308.7</td>\n",
       "      <td>1408</td>\n",
       "      <td>46.3</td>\n",
       "      <td>3</td>\n",
       "      <td>0</td>\n",
       "    </tr>\n",
       "    <tr>\n",
       "      <th>2</th>\n",
       "      <td>L47182</td>\n",
       "      <td>L</td>\n",
       "      <td>298.1</td>\n",
       "      <td>308.5</td>\n",
       "      <td>1498</td>\n",
       "      <td>49.4</td>\n",
       "      <td>5</td>\n",
       "      <td>0</td>\n",
       "    </tr>\n",
       "    <tr>\n",
       "      <th>3</th>\n",
       "      <td>L47183</td>\n",
       "      <td>L</td>\n",
       "      <td>298.2</td>\n",
       "      <td>308.6</td>\n",
       "      <td>1433</td>\n",
       "      <td>39.5</td>\n",
       "      <td>7</td>\n",
       "      <td>0</td>\n",
       "    </tr>\n",
       "    <tr>\n",
       "      <th>4</th>\n",
       "      <td>L47184</td>\n",
       "      <td>L</td>\n",
       "      <td>298.2</td>\n",
       "      <td>308.7</td>\n",
       "      <td>1408</td>\n",
       "      <td>40.0</td>\n",
       "      <td>9</td>\n",
       "      <td>0</td>\n",
       "    </tr>\n",
       "    <tr>\n",
       "      <th>...</th>\n",
       "      <td>...</td>\n",
       "      <td>...</td>\n",
       "      <td>...</td>\n",
       "      <td>...</td>\n",
       "      <td>...</td>\n",
       "      <td>...</td>\n",
       "      <td>...</td>\n",
       "      <td>...</td>\n",
       "    </tr>\n",
       "    <tr>\n",
       "      <th>9995</th>\n",
       "      <td>M24855</td>\n",
       "      <td>M</td>\n",
       "      <td>298.8</td>\n",
       "      <td>308.4</td>\n",
       "      <td>1604</td>\n",
       "      <td>29.5</td>\n",
       "      <td>14</td>\n",
       "      <td>0</td>\n",
       "    </tr>\n",
       "    <tr>\n",
       "      <th>9996</th>\n",
       "      <td>H39410</td>\n",
       "      <td>H</td>\n",
       "      <td>298.9</td>\n",
       "      <td>308.4</td>\n",
       "      <td>1632</td>\n",
       "      <td>31.8</td>\n",
       "      <td>17</td>\n",
       "      <td>0</td>\n",
       "    </tr>\n",
       "    <tr>\n",
       "      <th>9997</th>\n",
       "      <td>M24857</td>\n",
       "      <td>M</td>\n",
       "      <td>299.0</td>\n",
       "      <td>308.6</td>\n",
       "      <td>1645</td>\n",
       "      <td>33.4</td>\n",
       "      <td>22</td>\n",
       "      <td>0</td>\n",
       "    </tr>\n",
       "    <tr>\n",
       "      <th>9998</th>\n",
       "      <td>H39412</td>\n",
       "      <td>H</td>\n",
       "      <td>299.0</td>\n",
       "      <td>308.7</td>\n",
       "      <td>1408</td>\n",
       "      <td>48.5</td>\n",
       "      <td>25</td>\n",
       "      <td>0</td>\n",
       "    </tr>\n",
       "    <tr>\n",
       "      <th>9999</th>\n",
       "      <td>M24859</td>\n",
       "      <td>M</td>\n",
       "      <td>299.0</td>\n",
       "      <td>308.7</td>\n",
       "      <td>1500</td>\n",
       "      <td>40.2</td>\n",
       "      <td>30</td>\n",
       "      <td>0</td>\n",
       "    </tr>\n",
       "  </tbody>\n",
       "</table>\n",
       "<p>9535 rows × 8 columns</p>\n",
       "</div>"
      ],
      "text/plain": [
       "     Product ID Type  Air temperature [K]  Process temperature [K]  \\\n",
       "0        M14860    M                298.1                    308.6   \n",
       "1        L47181    L                298.2                    308.7   \n",
       "2        L47182    L                298.1                    308.5   \n",
       "3        L47183    L                298.2                    308.6   \n",
       "4        L47184    L                298.2                    308.7   \n",
       "...         ...  ...                  ...                      ...   \n",
       "9995     M24855    M                298.8                    308.4   \n",
       "9996     H39410    H                298.9                    308.4   \n",
       "9997     M24857    M                299.0                    308.6   \n",
       "9998     H39412    H                299.0                    308.7   \n",
       "9999     M24859    M                299.0                    308.7   \n",
       "\n",
       "      Rotational speed [rpm]  Torque [Nm]  Tool wear [min]  Target  \n",
       "0                       1551         42.8                0       0  \n",
       "1                       1408         46.3                3       0  \n",
       "2                       1498         49.4                5       0  \n",
       "3                       1433         39.5                7       0  \n",
       "4                       1408         40.0                9       0  \n",
       "...                      ...          ...              ...     ...  \n",
       "9995                    1604         29.5               14       0  \n",
       "9996                    1632         31.8               17       0  \n",
       "9997                    1645         33.4               22       0  \n",
       "9998                    1408         48.5               25       0  \n",
       "9999                    1500         40.2               30       0  \n",
       "\n",
       "[9535 rows x 8 columns]"
      ]
     },
     "execution_count": 13,
     "metadata": {},
     "output_type": "execute_result"
    }
   ],
   "source": [
    "data"
   ]
  },
  {
   "cell_type": "markdown",
   "id": "a5d04131-c273-4408-b687-20e602547168",
   "metadata": {},
   "source": [
    "## check number of unique value"
   ]
  },
  {
   "cell_type": "code",
   "execution_count": 14,
   "id": "74adb1ea-7769-421e-8053-42f885c1d1ae",
   "metadata": {},
   "outputs": [
    {
     "name": "stdout",
     "output_type": "stream",
     "text": [
      "Product ID\n",
      "9535\n",
      "Type\n",
      "3\n"
     ]
    }
   ],
   "source": [
    "for i in data.columns:\n",
    "    if(data[i].dtype==\"object\"):\n",
    "        print(i)\n",
    "        print(len(data[i].unique()))"
   ]
  },
  {
   "cell_type": "markdown",
   "id": "58ca3f17-09ba-408b-9b6e-8973001201f0",
   "metadata": {},
   "source": [
    "## feature selection 2"
   ]
  },
  {
   "cell_type": "code",
   "execution_count": 15,
   "id": "9316f838-c563-44d5-b773-3a0b3a91eca0",
   "metadata": {},
   "outputs": [],
   "source": [
    "data.drop(\"Product ID\",inplace=True,axis=1)"
   ]
  },
  {
   "cell_type": "code",
   "execution_count": 16,
   "id": "5d688c04-1d8a-4893-b757-3f6ba780aa7a",
   "metadata": {},
   "outputs": [
    {
     "data": {
      "text/html": [
       "<div>\n",
       "<style scoped>\n",
       "    .dataframe tbody tr th:only-of-type {\n",
       "        vertical-align: middle;\n",
       "    }\n",
       "\n",
       "    .dataframe tbody tr th {\n",
       "        vertical-align: top;\n",
       "    }\n",
       "\n",
       "    .dataframe thead th {\n",
       "        text-align: right;\n",
       "    }\n",
       "</style>\n",
       "<table border=\"1\" class=\"dataframe\">\n",
       "  <thead>\n",
       "    <tr style=\"text-align: right;\">\n",
       "      <th></th>\n",
       "      <th>Type</th>\n",
       "      <th>Air temperature [K]</th>\n",
       "      <th>Process temperature [K]</th>\n",
       "      <th>Rotational speed [rpm]</th>\n",
       "      <th>Torque [Nm]</th>\n",
       "      <th>Tool wear [min]</th>\n",
       "      <th>Target</th>\n",
       "    </tr>\n",
       "  </thead>\n",
       "  <tbody>\n",
       "    <tr>\n",
       "      <th>0</th>\n",
       "      <td>M</td>\n",
       "      <td>298.1</td>\n",
       "      <td>308.6</td>\n",
       "      <td>1551</td>\n",
       "      <td>42.8</td>\n",
       "      <td>0</td>\n",
       "      <td>0</td>\n",
       "    </tr>\n",
       "    <tr>\n",
       "      <th>1</th>\n",
       "      <td>L</td>\n",
       "      <td>298.2</td>\n",
       "      <td>308.7</td>\n",
       "      <td>1408</td>\n",
       "      <td>46.3</td>\n",
       "      <td>3</td>\n",
       "      <td>0</td>\n",
       "    </tr>\n",
       "    <tr>\n",
       "      <th>2</th>\n",
       "      <td>L</td>\n",
       "      <td>298.1</td>\n",
       "      <td>308.5</td>\n",
       "      <td>1498</td>\n",
       "      <td>49.4</td>\n",
       "      <td>5</td>\n",
       "      <td>0</td>\n",
       "    </tr>\n",
       "    <tr>\n",
       "      <th>3</th>\n",
       "      <td>L</td>\n",
       "      <td>298.2</td>\n",
       "      <td>308.6</td>\n",
       "      <td>1433</td>\n",
       "      <td>39.5</td>\n",
       "      <td>7</td>\n",
       "      <td>0</td>\n",
       "    </tr>\n",
       "    <tr>\n",
       "      <th>4</th>\n",
       "      <td>L</td>\n",
       "      <td>298.2</td>\n",
       "      <td>308.7</td>\n",
       "      <td>1408</td>\n",
       "      <td>40.0</td>\n",
       "      <td>9</td>\n",
       "      <td>0</td>\n",
       "    </tr>\n",
       "    <tr>\n",
       "      <th>...</th>\n",
       "      <td>...</td>\n",
       "      <td>...</td>\n",
       "      <td>...</td>\n",
       "      <td>...</td>\n",
       "      <td>...</td>\n",
       "      <td>...</td>\n",
       "      <td>...</td>\n",
       "    </tr>\n",
       "    <tr>\n",
       "      <th>9995</th>\n",
       "      <td>M</td>\n",
       "      <td>298.8</td>\n",
       "      <td>308.4</td>\n",
       "      <td>1604</td>\n",
       "      <td>29.5</td>\n",
       "      <td>14</td>\n",
       "      <td>0</td>\n",
       "    </tr>\n",
       "    <tr>\n",
       "      <th>9996</th>\n",
       "      <td>H</td>\n",
       "      <td>298.9</td>\n",
       "      <td>308.4</td>\n",
       "      <td>1632</td>\n",
       "      <td>31.8</td>\n",
       "      <td>17</td>\n",
       "      <td>0</td>\n",
       "    </tr>\n",
       "    <tr>\n",
       "      <th>9997</th>\n",
       "      <td>M</td>\n",
       "      <td>299.0</td>\n",
       "      <td>308.6</td>\n",
       "      <td>1645</td>\n",
       "      <td>33.4</td>\n",
       "      <td>22</td>\n",
       "      <td>0</td>\n",
       "    </tr>\n",
       "    <tr>\n",
       "      <th>9998</th>\n",
       "      <td>H</td>\n",
       "      <td>299.0</td>\n",
       "      <td>308.7</td>\n",
       "      <td>1408</td>\n",
       "      <td>48.5</td>\n",
       "      <td>25</td>\n",
       "      <td>0</td>\n",
       "    </tr>\n",
       "    <tr>\n",
       "      <th>9999</th>\n",
       "      <td>M</td>\n",
       "      <td>299.0</td>\n",
       "      <td>308.7</td>\n",
       "      <td>1500</td>\n",
       "      <td>40.2</td>\n",
       "      <td>30</td>\n",
       "      <td>0</td>\n",
       "    </tr>\n",
       "  </tbody>\n",
       "</table>\n",
       "<p>9535 rows × 7 columns</p>\n",
       "</div>"
      ],
      "text/plain": [
       "     Type  Air temperature [K]  Process temperature [K]  \\\n",
       "0       M                298.1                    308.6   \n",
       "1       L                298.2                    308.7   \n",
       "2       L                298.1                    308.5   \n",
       "3       L                298.2                    308.6   \n",
       "4       L                298.2                    308.7   \n",
       "...   ...                  ...                      ...   \n",
       "9995    M                298.8                    308.4   \n",
       "9996    H                298.9                    308.4   \n",
       "9997    M                299.0                    308.6   \n",
       "9998    H                299.0                    308.7   \n",
       "9999    M                299.0                    308.7   \n",
       "\n",
       "      Rotational speed [rpm]  Torque [Nm]  Tool wear [min]  Target  \n",
       "0                       1551         42.8                0       0  \n",
       "1                       1408         46.3                3       0  \n",
       "2                       1498         49.4                5       0  \n",
       "3                       1433         39.5                7       0  \n",
       "4                       1408         40.0                9       0  \n",
       "...                      ...          ...              ...     ...  \n",
       "9995                    1604         29.5               14       0  \n",
       "9996                    1632         31.8               17       0  \n",
       "9997                    1645         33.4               22       0  \n",
       "9998                    1408         48.5               25       0  \n",
       "9999                    1500         40.2               30       0  \n",
       "\n",
       "[9535 rows x 7 columns]"
      ]
     },
     "execution_count": 16,
     "metadata": {},
     "output_type": "execute_result"
    }
   ],
   "source": [
    "data"
   ]
  },
  {
   "cell_type": "markdown",
   "id": "39891646-87ef-4f37-82c0-0a089e990001",
   "metadata": {},
   "source": [
    "## check balance in category in TYPE"
   ]
  },
  {
   "cell_type": "code",
   "execution_count": 17,
   "id": "7e359d39-7156-469f-8686-ffccc0f478db",
   "metadata": {},
   "outputs": [
    {
     "data": {
      "text/plain": [
       "Type\n",
       "L    5713\n",
       "M    2859\n",
       "H     963\n",
       "Name: count, dtype: int64"
      ]
     },
     "execution_count": 17,
     "metadata": {},
     "output_type": "execute_result"
    }
   ],
   "source": [
    "data[\"Type\"].value_counts()"
   ]
  },
  {
   "cell_type": "code",
   "execution_count": 18,
   "id": "345f0505-a04c-4d06-bb5e-6cfe0c2d6c82",
   "metadata": {},
   "outputs": [],
   "source": [
    "##not balanced"
   ]
  },
  {
   "cell_type": "code",
   "execution_count": 19,
   "id": "950bdfd4-b5d3-4c88-98ee-34b22fa6b971",
   "metadata": {},
   "outputs": [
    {
     "data": {
      "image/png": "[encoded data removed]",
      "text/plain": [
       "<Figure size 640x480 with 1 Axes>"
      ]
     },
     "metadata": {},
     "output_type": "display_data"
    }
   ],
   "source": [
    "import seaborn as sns\n",
    "sns.countplot(x=\"Type\",data=data)\n",
    "plt.show()"
   ]
  },
  {
   "cell_type": "markdown",
   "id": "9cf3c5d1-3a13-4617-8752-ce86b3bffe60",
   "metadata": {},
   "source": [
    "## use RandomOverSampler to balance TYPE"
   ]
  },
  {
   "cell_type": "code",
   "execution_count": 20,
   "id": "77084c05-7d5a-4afd-aef4-ccf4d28bb8b1",
   "metadata": {},
   "outputs": [
    {
     "name": "stdout",
     "output_type": "stream",
     "text": [
      "Type\n",
      "M    5713\n",
      "L    5713\n",
      "H    5713\n",
      "Name: count, dtype: int64\n"
     ]
    }
   ],
   "source": [
    "from imblearn.over_sampling import RandomOverSampler\n",
    "X = data.drop(\"Type\", axis=1)\n",
    "y = data[\"Type\"]\n",
    "ros = RandomOverSampler()\n",
    "X_resampled, y_resampled = ros.fit_resample(X, y)\n",
    "balanced_data = pd.concat([X_resampled, y_resampled], axis=1)\n",
    "print(balanced_data[\"Type\"].value_counts())"
   ]
  },
  {
   "cell_type": "code",
   "execution_count": 21,
   "id": "6cf1c075-8c24-4b21-bce1-fe82e6a91034",
   "metadata": {},
   "outputs": [
    {
     "data": {
      "text/html": [
       "<div>\n",
       "<style scoped>\n",
       "    .dataframe tbody tr th:only-of-type {\n",
       "        vertical-align: middle;\n",
       "    }\n",
       "\n",
       "    .dataframe tbody tr th {\n",
       "        vertical-align: top;\n",
       "    }\n",
       "\n",
       "    .dataframe thead th {\n",
       "        text-align: right;\n",
       "    }\n",
       "</style>\n",
       "<table border=\"1\" class=\"dataframe\">\n",
       "  <thead>\n",
       "    <tr style=\"text-align: right;\">\n",
       "      <th></th>\n",
       "      <th>Air temperature [K]</th>\n",
       "      <th>Process temperature [K]</th>\n",
       "      <th>Rotational speed [rpm]</th>\n",
       "      <th>Torque [Nm]</th>\n",
       "      <th>Tool wear [min]</th>\n",
       "      <th>Target</th>\n",
       "      <th>Type</th>\n",
       "    </tr>\n",
       "  </thead>\n",
       "  <tbody>\n",
       "    <tr>\n",
       "      <th>0</th>\n",
       "      <td>298.1</td>\n",
       "      <td>308.6</td>\n",
       "      <td>1551</td>\n",
       "      <td>42.8</td>\n",
       "      <td>0</td>\n",
       "      <td>0</td>\n",
       "      <td>M</td>\n",
       "    </tr>\n",
       "    <tr>\n",
       "      <th>1</th>\n",
       "      <td>298.2</td>\n",
       "      <td>308.7</td>\n",
       "      <td>1408</td>\n",
       "      <td>46.3</td>\n",
       "      <td>3</td>\n",
       "      <td>0</td>\n",
       "      <td>L</td>\n",
       "    </tr>\n",
       "    <tr>\n",
       "      <th>2</th>\n",
       "      <td>298.1</td>\n",
       "      <td>308.5</td>\n",
       "      <td>1498</td>\n",
       "      <td>49.4</td>\n",
       "      <td>5</td>\n",
       "      <td>0</td>\n",
       "      <td>L</td>\n",
       "    </tr>\n",
       "    <tr>\n",
       "      <th>3</th>\n",
       "      <td>298.2</td>\n",
       "      <td>308.6</td>\n",
       "      <td>1433</td>\n",
       "      <td>39.5</td>\n",
       "      <td>7</td>\n",
       "      <td>0</td>\n",
       "      <td>L</td>\n",
       "    </tr>\n",
       "    <tr>\n",
       "      <th>4</th>\n",
       "      <td>298.2</td>\n",
       "      <td>308.7</td>\n",
       "      <td>1408</td>\n",
       "      <td>40.0</td>\n",
       "      <td>9</td>\n",
       "      <td>0</td>\n",
       "      <td>L</td>\n",
       "    </tr>\n",
       "    <tr>\n",
       "      <th>...</th>\n",
       "      <td>...</td>\n",
       "      <td>...</td>\n",
       "      <td>...</td>\n",
       "      <td>...</td>\n",
       "      <td>...</td>\n",
       "      <td>...</td>\n",
       "      <td>...</td>\n",
       "    </tr>\n",
       "    <tr>\n",
       "      <th>17134</th>\n",
       "      <td>298.7</td>\n",
       "      <td>309.2</td>\n",
       "      <td>1437</td>\n",
       "      <td>45.7</td>\n",
       "      <td>195</td>\n",
       "      <td>0</td>\n",
       "      <td>M</td>\n",
       "    </tr>\n",
       "    <tr>\n",
       "      <th>17135</th>\n",
       "      <td>301.0</td>\n",
       "      <td>312.2</td>\n",
       "      <td>1629</td>\n",
       "      <td>32.6</td>\n",
       "      <td>69</td>\n",
       "      <td>0</td>\n",
       "      <td>M</td>\n",
       "    </tr>\n",
       "    <tr>\n",
       "      <th>17136</th>\n",
       "      <td>303.0</td>\n",
       "      <td>311.1</td>\n",
       "      <td>1428</td>\n",
       "      <td>39.8</td>\n",
       "      <td>181</td>\n",
       "      <td>0</td>\n",
       "      <td>M</td>\n",
       "    </tr>\n",
       "    <tr>\n",
       "      <th>17137</th>\n",
       "      <td>300.7</td>\n",
       "      <td>310.6</td>\n",
       "      <td>1474</td>\n",
       "      <td>37.0</td>\n",
       "      <td>33</td>\n",
       "      <td>0</td>\n",
       "      <td>M</td>\n",
       "    </tr>\n",
       "    <tr>\n",
       "      <th>17138</th>\n",
       "      <td>297.8</td>\n",
       "      <td>308.5</td>\n",
       "      <td>1488</td>\n",
       "      <td>41.9</td>\n",
       "      <td>196</td>\n",
       "      <td>0</td>\n",
       "      <td>M</td>\n",
       "    </tr>\n",
       "  </tbody>\n",
       "</table>\n",
       "<p>17139 rows × 7 columns</p>\n",
       "</div>"
      ],
      "text/plain": [
       "       Air temperature [K]  Process temperature [K]  Rotational speed [rpm]  \\\n",
       "0                    298.1                    308.6                    1551   \n",
       "1                    298.2                    308.7                    1408   \n",
       "2                    298.1                    308.5                    1498   \n",
       "3                    298.2                    308.6                    1433   \n",
       "4                    298.2                    308.7                    1408   \n",
       "...                    ...                      ...                     ...   \n",
       "17134                298.7                    309.2                    1437   \n",
       "17135                301.0                    312.2                    1629   \n",
       "17136                303.0                    311.1                    1428   \n",
       "17137                300.7                    310.6                    1474   \n",
       "17138                297.8                    308.5                    1488   \n",
       "\n",
       "       Torque [Nm]  Tool wear [min]  Target Type  \n",
       "0             42.8                0       0    M  \n",
       "1             46.3                3       0    L  \n",
       "2             49.4                5       0    L  \n",
       "3             39.5                7       0    L  \n",
       "4             40.0                9       0    L  \n",
       "...            ...              ...     ...  ...  \n",
       "17134         45.7              195       0    M  \n",
       "17135         32.6               69       0    M  \n",
       "17136         39.8              181       0    M  \n",
       "17137         37.0               33       0    M  \n",
       "17138         41.9              196       0    M  \n",
       "\n",
       "[17139 rows x 7 columns]"
      ]
     },
     "execution_count": 21,
     "metadata": {},
     "output_type": "execute_result"
    }
   ],
   "source": [
    "balanced_data"
   ]
  },
  {
   "cell_type": "code",
   "execution_count": 22,
   "id": "d0a11d2a-31fa-4589-9e88-67cf01fc5fc3",
   "metadata": {},
   "outputs": [
    {
     "data": {
      "image/png": "[encoded data removed]",
      "text/plain": [
       "<Figure size 640x480 with 1 Axes>"
      ]
     },
     "metadata": {},
     "output_type": "display_data"
    }
   ],
   "source": [
    "sns.countplot(x=\"Type\",data=balanced_data)\n",
    "plt.show()"
   ]
  },
  {
   "cell_type": "markdown",
   "id": "83f798c9-c69e-4368-9ca1-0e9231273387",
   "metadata": {},
   "source": [
    "## encoding by ordinal encoder"
   ]
  },
  {
   "cell_type": "code",
   "execution_count": 23,
   "id": "a1b67103-3fb4-4dfe-b911-4c58a9832d46",
   "metadata": {},
   "outputs": [],
   "source": [
    "from sklearn.preprocessing import OrdinalEncoder"
   ]
  },
  {
   "cell_type": "code",
   "execution_count": 24,
   "id": "c01f45cb-e4b0-4cd3-83fb-cd6a0643421d",
   "metadata": {},
   "outputs": [
    {
     "name": "stdout",
     "output_type": "stream",
     "text": [
      "      Type  Type_encoded\n",
      "0        M           1.0\n",
      "1        L           0.0\n",
      "2        L           0.0\n",
      "3        L           0.0\n",
      "4        L           0.0\n",
      "...    ...           ...\n",
      "17134    M           1.0\n",
      "17135    M           1.0\n",
      "17136    M           1.0\n",
      "17137    M           1.0\n",
      "17138    M           1.0\n",
      "\n",
      "[17139 rows x 2 columns]\n"
     ]
    }
   ],
   "source": [
    "from sklearn.preprocessing import OrdinalEncoder\n",
    "encoder = OrdinalEncoder(categories=[['L', 'M', 'H']])\n",
    "balanced_data['Type_encoded'] = encoder.fit_transform(balanced_data[['Type']])\n",
    "print(balanced_data[['Type', 'Type_encoded']])"
   ]
  },
  {
   "cell_type": "code",
   "execution_count": 25,
   "id": "bb9a7ad3-6f76-4832-8229-2aed4d084ad2",
   "metadata": {},
   "outputs": [
    {
     "data": {
      "text/html": [
       "<div>\n",
       "<style scoped>\n",
       "    .dataframe tbody tr th:only-of-type {\n",
       "        vertical-align: middle;\n",
       "    }\n",
       "\n",
       "    .dataframe tbody tr th {\n",
       "        vertical-align: top;\n",
       "    }\n",
       "\n",
       "    .dataframe thead th {\n",
       "        text-align: right;\n",
       "    }\n",
       "</style>\n",
       "<table border=\"1\" class=\"dataframe\">\n",
       "  <thead>\n",
       "    <tr style=\"text-align: right;\">\n",
       "      <th></th>\n",
       "      <th>Air temperature [K]</th>\n",
       "      <th>Process temperature [K]</th>\n",
       "      <th>Rotational speed [rpm]</th>\n",
       "      <th>Torque [Nm]</th>\n",
       "      <th>Tool wear [min]</th>\n",
       "      <th>Target</th>\n",
       "      <th>Type</th>\n",
       "      <th>Type_encoded</th>\n",
       "    </tr>\n",
       "  </thead>\n",
       "  <tbody>\n",
       "    <tr>\n",
       "      <th>0</th>\n",
       "      <td>298.1</td>\n",
       "      <td>308.6</td>\n",
       "      <td>1551</td>\n",
       "      <td>42.8</td>\n",
       "      <td>0</td>\n",
       "      <td>0</td>\n",
       "      <td>M</td>\n",
       "      <td>1.0</td>\n",
       "    </tr>\n",
       "    <tr>\n",
       "      <th>1</th>\n",
       "      <td>298.2</td>\n",
       "      <td>308.7</td>\n",
       "      <td>1408</td>\n",
       "      <td>46.3</td>\n",
       "      <td>3</td>\n",
       "      <td>0</td>\n",
       "      <td>L</td>\n",
       "      <td>0.0</td>\n",
       "    </tr>\n",
       "    <tr>\n",
       "      <th>2</th>\n",
       "      <td>298.1</td>\n",
       "      <td>308.5</td>\n",
       "      <td>1498</td>\n",
       "      <td>49.4</td>\n",
       "      <td>5</td>\n",
       "      <td>0</td>\n",
       "      <td>L</td>\n",
       "      <td>0.0</td>\n",
       "    </tr>\n",
       "    <tr>\n",
       "      <th>3</th>\n",
       "      <td>298.2</td>\n",
       "      <td>308.6</td>\n",
       "      <td>1433</td>\n",
       "      <td>39.5</td>\n",
       "      <td>7</td>\n",
       "      <td>0</td>\n",
       "      <td>L</td>\n",
       "      <td>0.0</td>\n",
       "    </tr>\n",
       "    <tr>\n",
       "      <th>4</th>\n",
       "      <td>298.2</td>\n",
       "      <td>308.7</td>\n",
       "      <td>1408</td>\n",
       "      <td>40.0</td>\n",
       "      <td>9</td>\n",
       "      <td>0</td>\n",
       "      <td>L</td>\n",
       "      <td>0.0</td>\n",
       "    </tr>\n",
       "    <tr>\n",
       "      <th>...</th>\n",
       "      <td>...</td>\n",
       "      <td>...</td>\n",
       "      <td>...</td>\n",
       "      <td>...</td>\n",
       "      <td>...</td>\n",
       "      <td>...</td>\n",
       "      <td>...</td>\n",
       "      <td>...</td>\n",
       "    </tr>\n",
       "    <tr>\n",
       "      <th>17134</th>\n",
       "      <td>298.7</td>\n",
       "      <td>309.2</td>\n",
       "      <td>1437</td>\n",
       "      <td>45.7</td>\n",
       "      <td>195</td>\n",
       "      <td>0</td>\n",
       "      <td>M</td>\n",
       "      <td>1.0</td>\n",
       "    </tr>\n",
       "    <tr>\n",
       "      <th>17135</th>\n",
       "      <td>301.0</td>\n",
       "      <td>312.2</td>\n",
       "      <td>1629</td>\n",
       "      <td>32.6</td>\n",
       "      <td>69</td>\n",
       "      <td>0</td>\n",
       "      <td>M</td>\n",
       "      <td>1.0</td>\n",
       "    </tr>\n",
       "    <tr>\n",
       "      <th>17136</th>\n",
       "      <td>303.0</td>\n",
       "      <td>311.1</td>\n",
       "      <td>1428</td>\n",
       "      <td>39.8</td>\n",
       "      <td>181</td>\n",
       "      <td>0</td>\n",
       "      <td>M</td>\n",
       "      <td>1.0</td>\n",
       "    </tr>\n",
       "    <tr>\n",
       "      <th>17137</th>\n",
       "      <td>300.7</td>\n",
       "      <td>310.6</td>\n",
       "      <td>1474</td>\n",
       "      <td>37.0</td>\n",
       "      <td>33</td>\n",
       "      <td>0</td>\n",
       "      <td>M</td>\n",
       "      <td>1.0</td>\n",
       "    </tr>\n",
       "    <tr>\n",
       "      <th>17138</th>\n",
       "      <td>297.8</td>\n",
       "      <td>308.5</td>\n",
       "      <td>1488</td>\n",
       "      <td>41.9</td>\n",
       "      <td>196</td>\n",
       "      <td>0</td>\n",
       "      <td>M</td>\n",
       "      <td>1.0</td>\n",
       "    </tr>\n",
       "  </tbody>\n",
       "</table>\n",
       "<p>17139 rows × 8 columns</p>\n",
       "</div>"
      ],
      "text/plain": [
       "       Air temperature [K]  Process temperature [K]  Rotational speed [rpm]  \\\n",
       "0                    298.1                    308.6                    1551   \n",
       "1                    298.2                    308.7                    1408   \n",
       "2                    298.1                    308.5                    1498   \n",
       "3                    298.2                    308.6                    1433   \n",
       "4                    298.2                    308.7                    1408   \n",
       "...                    ...                      ...                     ...   \n",
       "17134                298.7                    309.2                    1437   \n",
       "17135                301.0                    312.2                    1629   \n",
       "17136                303.0                    311.1                    1428   \n",
       "17137                300.7                    310.6                    1474   \n",
       "17138                297.8                    308.5                    1488   \n",
       "\n",
       "       Torque [Nm]  Tool wear [min]  Target Type  Type_encoded  \n",
       "0             42.8                0       0    M           1.0  \n",
       "1             46.3                3       0    L           0.0  \n",
       "2             49.4                5       0    L           0.0  \n",
       "3             39.5                7       0    L           0.0  \n",
       "4             40.0                9       0    L           0.0  \n",
       "...            ...              ...     ...  ...           ...  \n",
       "17134         45.7              195       0    M           1.0  \n",
       "17135         32.6               69       0    M           1.0  \n",
       "17136         39.8              181       0    M           1.0  \n",
       "17137         37.0               33       0    M           1.0  \n",
       "17138         41.9              196       0    M           1.0  \n",
       "\n",
       "[17139 rows x 8 columns]"
      ]
     },
     "execution_count": 25,
     "metadata": {},
     "output_type": "execute_result"
    }
   ],
   "source": [
    "balanced_data"
   ]
  },
  {
   "cell_type": "code",
   "execution_count": 26,
   "id": "25787f9b-1f51-4bb9-a322-ec8bfce0c5ce",
   "metadata": {},
   "outputs": [],
   "source": [
    "balanced_data.drop(\"Type\",inplace=True,axis=1)"
   ]
  },
  {
   "cell_type": "code",
   "execution_count": 27,
   "id": "370f1cc5-b0a4-4fc7-bd1c-9c4c27fd947a",
   "metadata": {},
   "outputs": [
    {
     "data": {
      "text/html": [
       "<div>\n",
       "<style scoped>\n",
       "    .dataframe tbody tr th:only-of-type {\n",
       "        vertical-align: middle;\n",
       "    }\n",
       "\n",
       "    .dataframe tbody tr th {\n",
       "        vertical-align: top;\n",
       "    }\n",
       "\n",
       "    .dataframe thead th {\n",
       "        text-align: right;\n",
       "    }\n",
       "</style>\n",
       "<table border=\"1\" class=\"dataframe\">\n",
       "  <thead>\n",
       "    <tr style=\"text-align: right;\">\n",
       "      <th></th>\n",
       "      <th>Air temperature [K]</th>\n",
       "      <th>Process temperature [K]</th>\n",
       "      <th>Rotational speed [rpm]</th>\n",
       "      <th>Torque [Nm]</th>\n",
       "      <th>Tool wear [min]</th>\n",
       "      <th>Target</th>\n",
       "      <th>Type_encoded</th>\n",
       "    </tr>\n",
       "  </thead>\n",
       "  <tbody>\n",
       "    <tr>\n",
       "      <th>0</th>\n",
       "      <td>298.1</td>\n",
       "      <td>308.6</td>\n",
       "      <td>1551</td>\n",
       "      <td>42.8</td>\n",
       "      <td>0</td>\n",
       "      <td>0</td>\n",
       "      <td>1.0</td>\n",
       "    </tr>\n",
       "    <tr>\n",
       "      <th>1</th>\n",
       "      <td>298.2</td>\n",
       "      <td>308.7</td>\n",
       "      <td>1408</td>\n",
       "      <td>46.3</td>\n",
       "      <td>3</td>\n",
       "      <td>0</td>\n",
       "      <td>0.0</td>\n",
       "    </tr>\n",
       "    <tr>\n",
       "      <th>2</th>\n",
       "      <td>298.1</td>\n",
       "      <td>308.5</td>\n",
       "      <td>1498</td>\n",
       "      <td>49.4</td>\n",
       "      <td>5</td>\n",
       "      <td>0</td>\n",
       "      <td>0.0</td>\n",
       "    </tr>\n",
       "    <tr>\n",
       "      <th>3</th>\n",
       "      <td>298.2</td>\n",
       "      <td>308.6</td>\n",
       "      <td>1433</td>\n",
       "      <td>39.5</td>\n",
       "      <td>7</td>\n",
       "      <td>0</td>\n",
       "      <td>0.0</td>\n",
       "    </tr>\n",
       "    <tr>\n",
       "      <th>4</th>\n",
       "      <td>298.2</td>\n",
       "      <td>308.7</td>\n",
       "      <td>1408</td>\n",
       "      <td>40.0</td>\n",
       "      <td>9</td>\n",
       "      <td>0</td>\n",
       "      <td>0.0</td>\n",
       "    </tr>\n",
       "    <tr>\n",
       "      <th>...</th>\n",
       "      <td>...</td>\n",
       "      <td>...</td>\n",
       "      <td>...</td>\n",
       "      <td>...</td>\n",
       "      <td>...</td>\n",
       "      <td>...</td>\n",
       "      <td>...</td>\n",
       "    </tr>\n",
       "    <tr>\n",
       "      <th>17134</th>\n",
       "      <td>298.7</td>\n",
       "      <td>309.2</td>\n",
       "      <td>1437</td>\n",
       "      <td>45.7</td>\n",
       "      <td>195</td>\n",
       "      <td>0</td>\n",
       "      <td>1.0</td>\n",
       "    </tr>\n",
       "    <tr>\n",
       "      <th>17135</th>\n",
       "      <td>301.0</td>\n",
       "      <td>312.2</td>\n",
       "      <td>1629</td>\n",
       "      <td>32.6</td>\n",
       "      <td>69</td>\n",
       "      <td>0</td>\n",
       "      <td>1.0</td>\n",
       "    </tr>\n",
       "    <tr>\n",
       "      <th>17136</th>\n",
       "      <td>303.0</td>\n",
       "      <td>311.1</td>\n",
       "      <td>1428</td>\n",
       "      <td>39.8</td>\n",
       "      <td>181</td>\n",
       "      <td>0</td>\n",
       "      <td>1.0</td>\n",
       "    </tr>\n",
       "    <tr>\n",
       "      <th>17137</th>\n",
       "      <td>300.7</td>\n",
       "      <td>310.6</td>\n",
       "      <td>1474</td>\n",
       "      <td>37.0</td>\n",
       "      <td>33</td>\n",
       "      <td>0</td>\n",
       "      <td>1.0</td>\n",
       "    </tr>\n",
       "    <tr>\n",
       "      <th>17138</th>\n",
       "      <td>297.8</td>\n",
       "      <td>308.5</td>\n",
       "      <td>1488</td>\n",
       "      <td>41.9</td>\n",
       "      <td>196</td>\n",
       "      <td>0</td>\n",
       "      <td>1.0</td>\n",
       "    </tr>\n",
       "  </tbody>\n",
       "</table>\n",
       "<p>17139 rows × 7 columns</p>\n",
       "</div>"
      ],
      "text/plain": [
       "       Air temperature [K]  Process temperature [K]  Rotational speed [rpm]  \\\n",
       "0                    298.1                    308.6                    1551   \n",
       "1                    298.2                    308.7                    1408   \n",
       "2                    298.1                    308.5                    1498   \n",
       "3                    298.2                    308.6                    1433   \n",
       "4                    298.2                    308.7                    1408   \n",
       "...                    ...                      ...                     ...   \n",
       "17134                298.7                    309.2                    1437   \n",
       "17135                301.0                    312.2                    1629   \n",
       "17136                303.0                    311.1                    1428   \n",
       "17137                300.7                    310.6                    1474   \n",
       "17138                297.8                    308.5                    1488   \n",
       "\n",
       "       Torque [Nm]  Tool wear [min]  Target  Type_encoded  \n",
       "0             42.8                0       0           1.0  \n",
       "1             46.3                3       0           0.0  \n",
       "2             49.4                5       0           0.0  \n",
       "3             39.5                7       0           0.0  \n",
       "4             40.0                9       0           0.0  \n",
       "...            ...              ...     ...           ...  \n",
       "17134         45.7              195       0           1.0  \n",
       "17135         32.6               69       0           1.0  \n",
       "17136         39.8              181       0           1.0  \n",
       "17137         37.0               33       0           1.0  \n",
       "17138         41.9              196       0           1.0  \n",
       "\n",
       "[17139 rows x 7 columns]"
      ]
     },
     "execution_count": 27,
     "metadata": {},
     "output_type": "execute_result"
    }
   ],
   "source": [
    "balanced_data"
   ]
  },
  {
   "cell_type": "code",
   "execution_count": 28,
   "id": "74e14a22-bcd4-4130-9c15-170a39a7e9a9",
   "metadata": {},
   "outputs": [
    {
     "name": "stdout",
     "output_type": "stream",
     "text": [
      "<class 'pandas.core.frame.DataFrame'>\n",
      "RangeIndex: 17139 entries, 0 to 17138\n",
      "Data columns (total 7 columns):\n",
      " #   Column                   Non-Null Count  Dtype  \n",
      "---  ------                   --------------  -----  \n",
      " 0   Air temperature [K]      17139 non-null  float64\n",
      " 1   Process temperature [K]  17139 non-null  float64\n",
      " 2   Rotational speed [rpm]   17139 non-null  int64  \n",
      " 3   Torque [Nm]              17139 non-null  float64\n",
      " 4   Tool wear [min]          17139 non-null  int64  \n",
      " 5   Target                   17139 non-null  int64  \n",
      " 6   Type_encoded             17139 non-null  float64\n",
      "dtypes: float64(4), int64(3)\n",
      "memory usage: 937.4 KB\n"
     ]
    }
   ],
   "source": [
    "balanced_data.info()"
   ]
  },
  {
   "cell_type": "markdown",
   "id": "5d66fc43-2416-47f9-922e-d2a62bfe2209",
   "metadata": {},
   "source": [
    "## check correlation"
   ]
  },
  {
   "cell_type": "code",
   "execution_count": 29,
   "id": "25bc6d77-4833-43c9-b735-503d7efdc552",
   "metadata": {},
   "outputs": [
    {
     "data": {
      "text/html": [
       "<div>\n",
       "<style scoped>\n",
       "    .dataframe tbody tr th:only-of-type {\n",
       "        vertical-align: middle;\n",
       "    }\n",
       "\n",
       "    .dataframe tbody tr th {\n",
       "        vertical-align: top;\n",
       "    }\n",
       "\n",
       "    .dataframe thead th {\n",
       "        text-align: right;\n",
       "    }\n",
       "</style>\n",
       "<table border=\"1\" class=\"dataframe\">\n",
       "  <thead>\n",
       "    <tr style=\"text-align: right;\">\n",
       "      <th></th>\n",
       "      <th>Air temperature [K]</th>\n",
       "      <th>Process temperature [K]</th>\n",
       "      <th>Rotational speed [rpm]</th>\n",
       "      <th>Torque [Nm]</th>\n",
       "      <th>Tool wear [min]</th>\n",
       "      <th>Target</th>\n",
       "      <th>Type_encoded</th>\n",
       "    </tr>\n",
       "  </thead>\n",
       "  <tbody>\n",
       "    <tr>\n",
       "      <th>Air temperature [K]</th>\n",
       "      <td>1.000000</td>\n",
       "      <td>0.878608</td>\n",
       "      <td>0.021399</td>\n",
       "      <td>-0.014407</td>\n",
       "      <td>0.017701</td>\n",
       "      <td>0.087383</td>\n",
       "      <td>-0.034312</td>\n",
       "    </tr>\n",
       "    <tr>\n",
       "      <th>Process temperature [K]</th>\n",
       "      <td>0.878608</td>\n",
       "      <td>1.000000</td>\n",
       "      <td>0.018623</td>\n",
       "      <td>-0.013631</td>\n",
       "      <td>0.019940</td>\n",
       "      <td>0.035509</td>\n",
       "      <td>-0.025501</td>\n",
       "    </tr>\n",
       "    <tr>\n",
       "      <th>Rotational speed [rpm]</th>\n",
       "      <td>0.021399</td>\n",
       "      <td>0.018623</td>\n",
       "      <td>1.000000</td>\n",
       "      <td>-0.893132</td>\n",
       "      <td>0.013669</td>\n",
       "      <td>-0.149158</td>\n",
       "      <td>0.001681</td>\n",
       "    </tr>\n",
       "    <tr>\n",
       "      <th>Torque [Nm]</th>\n",
       "      <td>-0.014407</td>\n",
       "      <td>-0.013631</td>\n",
       "      <td>-0.893132</td>\n",
       "      <td>1.000000</td>\n",
       "      <td>-0.012138</td>\n",
       "      <td>0.193797</td>\n",
       "      <td>-0.008251</td>\n",
       "    </tr>\n",
       "    <tr>\n",
       "      <th>Tool wear [min]</th>\n",
       "      <td>0.017701</td>\n",
       "      <td>0.019940</td>\n",
       "      <td>0.013669</td>\n",
       "      <td>-0.012138</td>\n",
       "      <td>1.000000</td>\n",
       "      <td>0.104294</td>\n",
       "      <td>-0.017048</td>\n",
       "    </tr>\n",
       "    <tr>\n",
       "      <th>Target</th>\n",
       "      <td>0.087383</td>\n",
       "      <td>0.035509</td>\n",
       "      <td>-0.149158</td>\n",
       "      <td>0.193797</td>\n",
       "      <td>0.104294</td>\n",
       "      <td>1.000000</td>\n",
       "      <td>-0.047741</td>\n",
       "    </tr>\n",
       "    <tr>\n",
       "      <th>Type_encoded</th>\n",
       "      <td>-0.034312</td>\n",
       "      <td>-0.025501</td>\n",
       "      <td>0.001681</td>\n",
       "      <td>-0.008251</td>\n",
       "      <td>-0.017048</td>\n",
       "      <td>-0.047741</td>\n",
       "      <td>1.000000</td>\n",
       "    </tr>\n",
       "  </tbody>\n",
       "</table>\n",
       "</div>"
      ],
      "text/plain": [
       "                         Air temperature [K]  Process temperature [K]  \\\n",
       "Air temperature [K]                 1.000000                 0.878608   \n",
       "Process temperature [K]             0.878608                 1.000000   \n",
       "Rotational speed [rpm]              0.021399                 0.018623   \n",
       "Torque [Nm]                        -0.014407                -0.013631   \n",
       "Tool wear [min]                     0.017701                 0.019940   \n",
       "Target                              0.087383                 0.035509   \n",
       "Type_encoded                       -0.034312                -0.025501   \n",
       "\n",
       "                         Rotational speed [rpm]  Torque [Nm]  Tool wear [min]  \\\n",
       "Air temperature [K]                    0.021399    -0.014407         0.017701   \n",
       "Process temperature [K]                0.018623    -0.013631         0.019940   \n",
       "Rotational speed [rpm]                 1.000000    -0.893132         0.013669   \n",
       "Torque [Nm]                           -0.893132     1.000000        -0.012138   \n",
       "Tool wear [min]                        0.013669    -0.012138         1.000000   \n",
       "Target                                -0.149158     0.193797         0.104294   \n",
       "Type_encoded                           0.001681    -0.008251        -0.017048   \n",
       "\n",
       "                           Target  Type_encoded  \n",
       "Air temperature [K]      0.087383     -0.034312  \n",
       "Process temperature [K]  0.035509     -0.025501  \n",
       "Rotational speed [rpm]  -0.149158      0.001681  \n",
       "Torque [Nm]              0.193797     -0.008251  \n",
       "Tool wear [min]          0.104294     -0.017048  \n",
       "Target                   1.000000     -0.047741  \n",
       "Type_encoded            -0.047741      1.000000  "
      ]
     },
     "execution_count": 29,
     "metadata": {},
     "output_type": "execute_result"
    }
   ],
   "source": [
    "balanced_data.corr()"
   ]
  },
  {
   "cell_type": "code",
   "execution_count": 30,
   "id": "35c09ea0-9766-4d80-acbc-990d9d604e06",
   "metadata": {},
   "outputs": [
    {
     "data": {
      "image/png": "[encoded data removed]",
      "text/plain": [
       "<Figure size 640x480 with 2 Axes>"
      ]
     },
     "metadata": {},
     "output_type": "display_data"
    }
   ],
   "source": [
    "import seaborn as sns \n",
    "sns.heatmap(balanced_data.corr(), annot=True)\n",
    "plt.show()"
   ]
  },
  {
   "cell_type": "markdown",
   "id": "dbf88f36-c3f7-4a66-b07f-aa5420e607ad",
   "metadata": {},
   "source": [
    "## split X,y"
   ]
  },
  {
   "cell_type": "code",
   "execution_count": 31,
   "id": "84a8f7cc-637b-478b-b152-c5d2c4dc618e",
   "metadata": {},
   "outputs": [],
   "source": [
    "X=balanced_data.drop([\"Target\"],inplace=False,axis=1)\n",
    "y=balanced_data[\"Target\"]"
   ]
  },
  {
   "cell_type": "markdown",
   "id": "8d053291-db52-4dcd-8dc8-57f5f9190dfc",
   "metadata": {},
   "source": [
    "## check balance in target"
   ]
  },
  {
   "cell_type": "code",
   "execution_count": 32,
   "id": "0ee31d64-22bf-461c-9b87-753c7c75f4a7",
   "metadata": {},
   "outputs": [
    {
     "data": {
      "text/plain": [
       "Target\n",
       "0    16746\n",
       "1      393\n",
       "Name: count, dtype: int64"
      ]
     },
     "execution_count": 32,
     "metadata": {},
     "output_type": "execute_result"
    }
   ],
   "source": [
    "balanced_data[\"Target\"].value_counts()"
   ]
  },
  {
   "cell_type": "code",
   "execution_count": 33,
   "id": "d716cfd9-57f2-4448-8b8e-899662d9909c",
   "metadata": {},
   "outputs": [],
   "source": [
    "## notbalanced"
   ]
  },
  {
   "cell_type": "code",
   "execution_count": 34,
   "id": "dd9e7f31-e2f2-4a3a-9f47-4a21329e0518",
   "metadata": {},
   "outputs": [
    {
     "data": {
      "image/png": "[encoded data removed]",
      "text/plain": [
       "<Figure size 1000x600 with 1 Axes>"
      ]
     },
     "metadata": {},
     "output_type": "display_data"
    }
   ],
   "source": [
    "counts = balanced_data['Target'].value_counts().sort_index()\n",
    "palette = sns.color_palette(\"Blues\", n_colors=len(counts))\n",
    "fig = plt.figure(figsize=(10, 6))\n",
    "plt.pie(counts, autopct='%1.1f%%', startangle=140, colors=palette, labels=[\"NO Failure\", \"Failure\"])\n",
    "plt.tight_layout()\n",
    "plt.show()"
   ]
  },
  {
   "cell_type": "markdown",
   "id": "0eff0e8e-e709-4ec6-a04d-590f7a7dd3f6",
   "metadata": {},
   "source": [
    "## use smote to balabce target"
   ]
  },
  {
   "cell_type": "code",
   "execution_count": 35,
   "id": "5d041812-1a7a-410a-adfd-63176823897f",
   "metadata": {},
   "outputs": [],
   "source": [
    "from imblearn.over_sampling import SMOTE"
   ]
  },
  {
   "cell_type": "code",
   "execution_count": 36,
   "id": "c7dc0b33-fbaa-4678-9937-78fdceeb8000",
   "metadata": {},
   "outputs": [],
   "source": [
    "smote = SMOTE(random_state=42)\n",
    "X,y = smote.fit_resample(X, y)"
   ]
  },
  {
   "cell_type": "code",
   "execution_count": 37,
   "id": "164d6f25-c75f-4913-b330-a7dcda97e7ee",
   "metadata": {},
   "outputs": [
    {
     "data": {
      "text/plain": [
       "Target\n",
       "0    16746\n",
       "1    16746\n",
       "Name: count, dtype: int64"
      ]
     },
     "execution_count": 37,
     "metadata": {},
     "output_type": "execute_result"
    }
   ],
   "source": [
    "y.value_counts() "
   ]
  },
  {
   "cell_type": "markdown",
   "id": "46453920-57bc-4f08-b860-00b2a8ec6fb3",
   "metadata": {},
   "source": [
    "## feature selection 3 by SelectPercentile"
   ]
  },
  {
   "cell_type": "code",
   "execution_count": 38,
   "id": "43d5dfb7-c322-405d-9412-5aefa5d54d18",
   "metadata": {},
   "outputs": [],
   "source": [
    "from sklearn.feature_selection import SelectPercentile\n",
    "from sklearn.feature_selection import chi2 , f_classif "
   ]
  },
  {
   "cell_type": "code",
   "execution_count": 39,
   "id": "a7f0f4bb-c9b6-47a4-ac6c-3e89af72aa3d",
   "metadata": {},
   "outputs": [],
   "source": [
    "FeatureSelection = SelectPercentile(score_func = chi2, percentile=80)\n",
    "X = FeatureSelection.fit_transform(X, y)"
   ]
  },
  {
   "cell_type": "code",
   "execution_count": 40,
   "id": "18a4588c-b042-4e00-b5f5-276860a717c5",
   "metadata": {},
   "outputs": [
    {
     "data": {
      "text/html": [
       "<div>\n",
       "<style scoped>\n",
       "    .dataframe tbody tr th:only-of-type {\n",
       "        vertical-align: middle;\n",
       "    }\n",
       "\n",
       "    .dataframe tbody tr th {\n",
       "        vertical-align: top;\n",
       "    }\n",
       "\n",
       "    .dataframe thead th {\n",
       "        text-align: right;\n",
       "    }\n",
       "</style>\n",
       "<table border=\"1\" class=\"dataframe\">\n",
       "  <thead>\n",
       "    <tr style=\"text-align: right;\">\n",
       "      <th></th>\n",
       "      <th>0</th>\n",
       "      <th>1</th>\n",
       "      <th>2</th>\n",
       "      <th>3</th>\n",
       "    </tr>\n",
       "  </thead>\n",
       "  <tbody>\n",
       "    <tr>\n",
       "      <th>0</th>\n",
       "      <td>1551.0</td>\n",
       "      <td>42.800000</td>\n",
       "      <td>0.0</td>\n",
       "      <td>1.00000</td>\n",
       "    </tr>\n",
       "    <tr>\n",
       "      <th>1</th>\n",
       "      <td>1408.0</td>\n",
       "      <td>46.300000</td>\n",
       "      <td>3.0</td>\n",
       "      <td>0.00000</td>\n",
       "    </tr>\n",
       "    <tr>\n",
       "      <th>2</th>\n",
       "      <td>1498.0</td>\n",
       "      <td>49.400000</td>\n",
       "      <td>5.0</td>\n",
       "      <td>0.00000</td>\n",
       "    </tr>\n",
       "    <tr>\n",
       "      <th>3</th>\n",
       "      <td>1433.0</td>\n",
       "      <td>39.500000</td>\n",
       "      <td>7.0</td>\n",
       "      <td>0.00000</td>\n",
       "    </tr>\n",
       "    <tr>\n",
       "      <th>4</th>\n",
       "      <td>1408.0</td>\n",
       "      <td>40.000000</td>\n",
       "      <td>9.0</td>\n",
       "      <td>0.00000</td>\n",
       "    </tr>\n",
       "    <tr>\n",
       "      <th>...</th>\n",
       "      <td>...</td>\n",
       "      <td>...</td>\n",
       "      <td>...</td>\n",
       "      <td>...</td>\n",
       "    </tr>\n",
       "    <tr>\n",
       "      <th>33487</th>\n",
       "      <td>1604.0</td>\n",
       "      <td>36.100000</td>\n",
       "      <td>225.0</td>\n",
       "      <td>2.00000</td>\n",
       "    </tr>\n",
       "    <tr>\n",
       "      <th>33488</th>\n",
       "      <td>1549.0</td>\n",
       "      <td>35.800000</td>\n",
       "      <td>206.0</td>\n",
       "      <td>2.00000</td>\n",
       "    </tr>\n",
       "    <tr>\n",
       "      <th>33489</th>\n",
       "      <td>1294.0</td>\n",
       "      <td>62.400000</td>\n",
       "      <td>101.0</td>\n",
       "      <td>2.00000</td>\n",
       "    </tr>\n",
       "    <tr>\n",
       "      <th>33490</th>\n",
       "      <td>1364.0</td>\n",
       "      <td>47.833544</td>\n",
       "      <td>213.0</td>\n",
       "      <td>0.98802</td>\n",
       "    </tr>\n",
       "    <tr>\n",
       "      <th>33491</th>\n",
       "      <td>1282.0</td>\n",
       "      <td>61.943723</td>\n",
       "      <td>185.0</td>\n",
       "      <td>0.00000</td>\n",
       "    </tr>\n",
       "  </tbody>\n",
       "</table>\n",
       "<p>33492 rows × 4 columns</p>\n",
       "</div>"
      ],
      "text/plain": [
       "            0          1      2        3\n",
       "0      1551.0  42.800000    0.0  1.00000\n",
       "1      1408.0  46.300000    3.0  0.00000\n",
       "2      1498.0  49.400000    5.0  0.00000\n",
       "3      1433.0  39.500000    7.0  0.00000\n",
       "4      1408.0  40.000000    9.0  0.00000\n",
       "...       ...        ...    ...      ...\n",
       "33487  1604.0  36.100000  225.0  2.00000\n",
       "33488  1549.0  35.800000  206.0  2.00000\n",
       "33489  1294.0  62.400000  101.0  2.00000\n",
       "33490  1364.0  47.833544  213.0  0.98802\n",
       "33491  1282.0  61.943723  185.0  0.00000\n",
       "\n",
       "[33492 rows x 4 columns]"
      ]
     },
     "execution_count": 40,
     "metadata": {},
     "output_type": "execute_result"
    }
   ],
   "source": [
    "pd.DataFrame(X)"
   ]
  },
  {
   "cell_type": "code",
   "execution_count": 41,
   "id": "89153688-b1a8-4f8a-a5fc-e8183ebf5e6c",
   "metadata": {},
   "outputs": [
    {
     "data": {
      "text/html": [
       "<div>\n",
       "<style scoped>\n",
       "    .dataframe tbody tr th:only-of-type {\n",
       "        vertical-align: middle;\n",
       "    }\n",
       "\n",
       "    .dataframe tbody tr th {\n",
       "        vertical-align: top;\n",
       "    }\n",
       "\n",
       "    .dataframe thead th {\n",
       "        text-align: right;\n",
       "    }\n",
       "</style>\n",
       "<table border=\"1\" class=\"dataframe\">\n",
       "  <thead>\n",
       "    <tr style=\"text-align: right;\">\n",
       "      <th></th>\n",
       "      <th>Air temperature [K]</th>\n",
       "      <th>Process temperature [K]</th>\n",
       "      <th>Rotational speed [rpm]</th>\n",
       "      <th>Torque [Nm]</th>\n",
       "      <th>Tool wear [min]</th>\n",
       "      <th>Target</th>\n",
       "      <th>Type_encoded</th>\n",
       "    </tr>\n",
       "  </thead>\n",
       "  <tbody>\n",
       "    <tr>\n",
       "      <th>0</th>\n",
       "      <td>298.1</td>\n",
       "      <td>308.6</td>\n",
       "      <td>1551</td>\n",
       "      <td>42.8</td>\n",
       "      <td>0</td>\n",
       "      <td>0</td>\n",
       "      <td>1.0</td>\n",
       "    </tr>\n",
       "    <tr>\n",
       "      <th>1</th>\n",
       "      <td>298.2</td>\n",
       "      <td>308.7</td>\n",
       "      <td>1408</td>\n",
       "      <td>46.3</td>\n",
       "      <td>3</td>\n",
       "      <td>0</td>\n",
       "      <td>0.0</td>\n",
       "    </tr>\n",
       "    <tr>\n",
       "      <th>2</th>\n",
       "      <td>298.1</td>\n",
       "      <td>308.5</td>\n",
       "      <td>1498</td>\n",
       "      <td>49.4</td>\n",
       "      <td>5</td>\n",
       "      <td>0</td>\n",
       "      <td>0.0</td>\n",
       "    </tr>\n",
       "    <tr>\n",
       "      <th>3</th>\n",
       "      <td>298.2</td>\n",
       "      <td>308.6</td>\n",
       "      <td>1433</td>\n",
       "      <td>39.5</td>\n",
       "      <td>7</td>\n",
       "      <td>0</td>\n",
       "      <td>0.0</td>\n",
       "    </tr>\n",
       "    <tr>\n",
       "      <th>4</th>\n",
       "      <td>298.2</td>\n",
       "      <td>308.7</td>\n",
       "      <td>1408</td>\n",
       "      <td>40.0</td>\n",
       "      <td>9</td>\n",
       "      <td>0</td>\n",
       "      <td>0.0</td>\n",
       "    </tr>\n",
       "    <tr>\n",
       "      <th>...</th>\n",
       "      <td>...</td>\n",
       "      <td>...</td>\n",
       "      <td>...</td>\n",
       "      <td>...</td>\n",
       "      <td>...</td>\n",
       "      <td>...</td>\n",
       "      <td>...</td>\n",
       "    </tr>\n",
       "    <tr>\n",
       "      <th>17134</th>\n",
       "      <td>298.7</td>\n",
       "      <td>309.2</td>\n",
       "      <td>1437</td>\n",
       "      <td>45.7</td>\n",
       "      <td>195</td>\n",
       "      <td>0</td>\n",
       "      <td>1.0</td>\n",
       "    </tr>\n",
       "    <tr>\n",
       "      <th>17135</th>\n",
       "      <td>301.0</td>\n",
       "      <td>312.2</td>\n",
       "      <td>1629</td>\n",
       "      <td>32.6</td>\n",
       "      <td>69</td>\n",
       "      <td>0</td>\n",
       "      <td>1.0</td>\n",
       "    </tr>\n",
       "    <tr>\n",
       "      <th>17136</th>\n",
       "      <td>303.0</td>\n",
       "      <td>311.1</td>\n",
       "      <td>1428</td>\n",
       "      <td>39.8</td>\n",
       "      <td>181</td>\n",
       "      <td>0</td>\n",
       "      <td>1.0</td>\n",
       "    </tr>\n",
       "    <tr>\n",
       "      <th>17137</th>\n",
       "      <td>300.7</td>\n",
       "      <td>310.6</td>\n",
       "      <td>1474</td>\n",
       "      <td>37.0</td>\n",
       "      <td>33</td>\n",
       "      <td>0</td>\n",
       "      <td>1.0</td>\n",
       "    </tr>\n",
       "    <tr>\n",
       "      <th>17138</th>\n",
       "      <td>297.8</td>\n",
       "      <td>308.5</td>\n",
       "      <td>1488</td>\n",
       "      <td>41.9</td>\n",
       "      <td>196</td>\n",
       "      <td>0</td>\n",
       "      <td>1.0</td>\n",
       "    </tr>\n",
       "  </tbody>\n",
       "</table>\n",
       "<p>17139 rows × 7 columns</p>\n",
       "</div>"
      ],
      "text/plain": [
       "       Air temperature [K]  Process temperature [K]  Rotational speed [rpm]  \\\n",
       "0                    298.1                    308.6                    1551   \n",
       "1                    298.2                    308.7                    1408   \n",
       "2                    298.1                    308.5                    1498   \n",
       "3                    298.2                    308.6                    1433   \n",
       "4                    298.2                    308.7                    1408   \n",
       "...                    ...                      ...                     ...   \n",
       "17134                298.7                    309.2                    1437   \n",
       "17135                301.0                    312.2                    1629   \n",
       "17136                303.0                    311.1                    1428   \n",
       "17137                300.7                    310.6                    1474   \n",
       "17138                297.8                    308.5                    1488   \n",
       "\n",
       "       Torque [Nm]  Tool wear [min]  Target  Type_encoded  \n",
       "0             42.8                0       0           1.0  \n",
       "1             46.3                3       0           0.0  \n",
       "2             49.4                5       0           0.0  \n",
       "3             39.5                7       0           0.0  \n",
       "4             40.0                9       0           0.0  \n",
       "...            ...              ...     ...           ...  \n",
       "17134         45.7              195       0           1.0  \n",
       "17135         32.6               69       0           1.0  \n",
       "17136         39.8              181       0           1.0  \n",
       "17137         37.0               33       0           1.0  \n",
       "17138         41.9              196       0           1.0  \n",
       "\n",
       "[17139 rows x 7 columns]"
      ]
     },
     "execution_count": 41,
     "metadata": {},
     "output_type": "execute_result"
    }
   ],
   "source": [
    "balanced_data"
   ]
  },
  {
   "cell_type": "markdown",
   "id": "132bd938-06e0-46df-ba59-bf7cc6add92a",
   "metadata": {},
   "source": [
    "## split the data train and test"
   ]
  },
  {
   "cell_type": "code",
   "execution_count": 42,
   "id": "52494238-956c-4ca1-a3e0-9e3812d1d30d",
   "metadata": {},
   "outputs": [],
   "source": [
    "from sklearn.model_selection import train_test_split"
   ]
  },
  {
   "cell_type": "code",
   "execution_count": 43,
   "id": "b9270fc0-e5d7-4613-81a8-5cca26ce455d",
   "metadata": {},
   "outputs": [
    {
     "name": "stdout",
     "output_type": "stream",
     "text": [
      "X_train shape is  (26793, 4)\n",
      "X_test shape is  (6699, 4)\n",
      "y_train shape is  (26793,)\n",
      "y_test shape is  (6699,)\n"
     ]
    }
   ],
   "source": [
    "X_train, X_test, y_train, y_test = train_test_split(X, y, test_size=0.2, random_state=44, shuffle =True)\n",
    "print('X_train shape is ' , X_train.shape)\n",
    "print('X_test shape is ' , X_test.shape)\n",
    "print('y_train shape is ' , y_train.shape)\n",
    "print('y_test shape is ' , y_test.shape)"
   ]
  },
  {
   "cell_type": "markdown",
   "id": "0f6920f9-c315-4585-9b77-1dfef672db17",
   "metadata": {},
   "source": [
    "## train model by use gridsearchcv"
   ]
  },
  {
   "cell_type": "code",
   "execution_count": 44,
   "id": "401cc931-459e-483d-8bce-b12e722283ec",
   "metadata": {},
   "outputs": [],
   "source": [
    "from sklearn.ensemble import RandomForestClassifier"
   ]
  },
  {
   "cell_type": "code",
   "execution_count": 45,
   "id": "78673429-b190-4f10-becf-b96c999b790b",
   "metadata": {},
   "outputs": [
    {
     "name": "stdout",
     "output_type": "stream",
     "text": [
      "Best Parameters:  {'criterion': 'gini', 'max_depth': None, 'n_estimators': 200}\n"
     ]
    },
    {
     "data": {
      "text/html": [
       "<style>#sk-container-id-1 {color: black;background-color: white;}#sk-container-id-1 pre{padding: 0;}#sk-container-id-1 div.sk-toggleable {background-color: white;}#sk-container-id-1 label.sk-toggleable__label {cursor: pointer;display: block;width: 100%;margin-bottom: 0;padding: 0.3em;box-sizing: border-box;text-align: center;}#sk-container-id-1 label.sk-toggleable__label-arrow:before {content: \"▸\";float: left;margin-right: 0.25em;color: #696969;}#sk-container-id-1 label.sk-toggleable__label-arrow:hover:before {color: black;}#sk-container-id-1 div.sk-estimator:hover label.sk-toggleable__label-arrow:before {color: black;}#sk-container-id-1 div.sk-toggleable__content {max-height: 0;max-width: 0;overflow: hidden;text-align: left;background-color: #f0f8ff;}#sk-container-id-1 div.sk-toggleable__content pre {margin: 0.2em;color: black;border-radius: 0.25em;background-color: #f0f8ff;}#sk-container-id-1 input.sk-toggleable__control:checked~div.sk-toggleable__content {max-height: 200px;max-width: 100%;overflow: auto;}#sk-container-id-1 input.sk-toggleable__control:checked~label.sk-toggleable__label-arrow:before {content: \"▾\";}#sk-container-id-1 div.sk-estimator input.sk-toggleable__control:checked~label.sk-toggleable__label {background-color: #d4ebff;}#sk-container-id-1 div.sk-label input.sk-toggleable__control:checked~label.sk-toggleable__label {background-color: #d4ebff;}#sk-container-id-1 input.sk-hidden--visually {border: 0;clip: rect(1px 1px 1px 1px);clip: rect(1px, 1px, 1px, 1px);height: 1px;margin: -1px;overflow: hidden;padding: 0;position: absolute;width: 1px;}#sk-container-id-1 div.sk-estimator {font-family: monospace;background-color: #f0f8ff;border: 1px dotted black;border-radius: 0.25em;box-sizing: border-box;margin-bottom: 0.5em;}#sk-container-id-1 div.sk-estimator:hover {background-color: #d4ebff;}#sk-container-id-1 div.sk-parallel-item::after {content: \"\";width: 100%;border-bottom: 1px solid gray;flex-grow: 1;}#sk-container-id-1 div.sk-label:hover label.sk-toggleable__label {background-color: #d4ebff;}#sk-container-id-1 div.sk-serial::before {content: \"\";position: absolute;border-left: 1px solid gray;box-sizing: border-box;top: 0;bottom: 0;left: 50%;z-index: 0;}#sk-container-id-1 div.sk-serial {display: flex;flex-direction: column;align-items: center;background-color: white;padding-right: 0.2em;padding-left: 0.2em;position: relative;}#sk-container-id-1 div.sk-item {position: relative;z-index: 1;}#sk-container-id-1 div.sk-parallel {display: flex;align-items: stretch;justify-content: center;background-color: white;position: relative;}#sk-container-id-1 div.sk-item::before, #sk-container-id-1 div.sk-parallel-item::before {content: \"\";position: absolute;border-left: 1px solid gray;box-sizing: border-box;top: 0;bottom: 0;left: 50%;z-index: -1;}#sk-container-id-1 div.sk-parallel-item {display: flex;flex-direction: column;z-index: 1;position: relative;background-color: white;}#sk-container-id-1 div.sk-parallel-item:first-child::after {align-self: flex-end;width: 50%;}#sk-container-id-1 div.sk-parallel-item:last-child::after {align-self: flex-start;width: 50%;}#sk-container-id-1 div.sk-parallel-item:only-child::after {width: 0;}#sk-container-id-1 div.sk-dashed-wrapped {border: 1px dashed gray;margin: 0 0.4em 0.5em 0.4em;box-sizing: border-box;padding-bottom: 0.4em;background-color: white;}#sk-container-id-1 div.sk-label label {font-family: monospace;font-weight: bold;display: inline-block;line-height: 1.2em;}#sk-container-id-1 div.sk-label-container {text-align: center;}#sk-container-id-1 div.sk-container {/* jupyter's `normalize.less` sets `[hidden] { display: none; }` but bootstrap.min.css set `[hidden] { display: none !important; }` so we also need the `!important` here to be able to override the default hidden behavior on the sphinx rendered scikit-learn.org. See: https://github.com/scikit-learn/scikit-learn/issues/21755 */display: inline-block !important;position: relative;}#sk-container-id-1 div.sk-text-repr-fallback {display: none;}</style><div id=\"sk-container-id-1\" class=\"sk-top-container\"><div class=\"sk-text-repr-fallback\"><pre>RandomForestClassifier(n_estimators=200, random_state=33)</pre><b>In a Jupyter environment, please rerun this cell to show the HTML representation or trust the notebook. <br />On GitHub, the HTML representation is unable to render, please try loading this page with nbviewer.org.</b></div><div class=\"sk-container\" hidden><div class=\"sk-item\"><div class=\"sk-estimator sk-toggleable\"><input class=\"sk-toggleable__control sk-hidden--visually\" id=\"sk-estimator-id-1\" type=\"checkbox\" checked><label for=\"sk-estimator-id-1\" class=\"sk-toggleable__label sk-toggleable__label-arrow\">RandomForestClassifier</label><div class=\"sk-toggleable__content\"><pre>RandomForestClassifier(n_estimators=200, random_state=33)</pre></div></div></div></div></div>"
      ],
      "text/plain": [
       "RandomForestClassifier(n_estimators=200, random_state=33)"
      ]
     },
     "execution_count": 45,
     "metadata": {},
     "output_type": "execute_result"
    }
   ],
   "source": [
    "from sklearn.ensemble import RandomForestClassifier\n",
    "from sklearn.model_selection import GridSearchCV\n",
    "RandomForestClassifierModel = RandomForestClassifier(random_state=33)\n",
    "param_grid = {\n",
    "    'n_estimators': [50, 100, 200],   \n",
    "    'max_depth': [None, 5, 10, 20],   \n",
    "    'criterion': ['gini', 'entropy'],   \n",
    "}\n",
    "grid_search = GridSearchCV(estimator=RandomForestClassifierModel, param_grid=param_grid, cv=5)\n",
    "grid_search.fit(X_train, y_train)\n",
    "print(\"Best Parameters: \", grid_search.best_params_)\n",
    "best_model = grid_search.best_estimator_\n",
    "best_model.fit(X_train, y_train)"
   ]
  },
  {
   "cell_type": "markdown",
   "id": "af272665-d658-40d3-b8a9-94596141b5a2",
   "metadata": {},
   "source": [
    "## evaluation"
   ]
  },
  {
   "cell_type": "code",
   "execution_count": 46,
   "id": "cd8a73d3-f4f0-49c4-b56c-319f907dae6d",
   "metadata": {},
   "outputs": [],
   "source": [
    "from sklearn.metrics import classification_report"
   ]
  },
  {
   "cell_type": "code",
   "execution_count": 47,
   "id": "77a3f3cb-5ab4-4269-9e9a-792568dc39f8",
   "metadata": {},
   "outputs": [
    {
     "name": "stdout",
     "output_type": "stream",
     "text": [
      "Classification Report is :\n",
      "                precision    recall  f1-score   support\n",
      "\n",
      "           0       1.00      0.98      0.99      3314\n",
      "           1       0.98      1.00      0.99      3385\n",
      "\n",
      "    accuracy                           0.99      6699\n",
      "   macro avg       0.99      0.99      0.99      6699\n",
      "weighted avg       0.99      0.99      0.99      6699\n",
      "\n"
     ]
    }
   ],
   "source": [
    "y_pred=best_model.predict(X_test)\n",
    "ClassificationReport = classification_report(y_test,y_pred)\n",
    "print('Classification Report is :\\n ', ClassificationReport )"
   ]
  },
  {
   "cell_type": "markdown",
   "id": "1edc00c7-a4f9-4eb6-b016-b8c19837ce0a",
   "metadata": {},
   "source": [
    "## train model by use gridsearchcv "
   ]
  },
  {
   "cell_type": "code",
   "execution_count": 48,
   "id": "e4e053f7-ab6a-4ae7-bf5f-7df27dc0d81b",
   "metadata": {},
   "outputs": [],
   "source": [
    "from sklearn.ensemble import GradientBoostingClassifier"
   ]
  },
  {
   "cell_type": "code",
   "execution_count": 49,
   "id": "ac01fc76-814f-4108-825a-06cac3b89e37",
   "metadata": {},
   "outputs": [
    {
     "name": "stdout",
     "output_type": "stream",
     "text": [
      "Best Parameters:  {'max_depth': 5, 'n_estimators': 150}\n"
     ]
    },
    {
     "data": {
      "text/html": [
       "<style>#sk-container-id-2 {color: black;background-color: white;}#sk-container-id-2 pre{padding: 0;}#sk-container-id-2 div.sk-toggleable {background-color: white;}#sk-container-id-2 label.sk-toggleable__label {cursor: pointer;display: block;width: 100%;margin-bottom: 0;padding: 0.3em;box-sizing: border-box;text-align: center;}#sk-container-id-2 label.sk-toggleable__label-arrow:before {content: \"▸\";float: left;margin-right: 0.25em;color: #696969;}#sk-container-id-2 label.sk-toggleable__label-arrow:hover:before {color: black;}#sk-container-id-2 div.sk-estimator:hover label.sk-toggleable__label-arrow:before {color: black;}#sk-container-id-2 div.sk-toggleable__content {max-height: 0;max-width: 0;overflow: hidden;text-align: left;background-color: #f0f8ff;}#sk-container-id-2 div.sk-toggleable__content pre {margin: 0.2em;color: black;border-radius: 0.25em;background-color: #f0f8ff;}#sk-container-id-2 input.sk-toggleable__control:checked~div.sk-toggleable__content {max-height: 200px;max-width: 100%;overflow: auto;}#sk-container-id-2 input.sk-toggleable__control:checked~label.sk-toggleable__label-arrow:before {content: \"▾\";}#sk-container-id-2 div.sk-estimator input.sk-toggleable__control:checked~label.sk-toggleable__label {background-color: #d4ebff;}#sk-container-id-2 div.sk-label input.sk-toggleable__control:checked~label.sk-toggleable__label {background-color: #d4ebff;}#sk-container-id-2 input.sk-hidden--visually {border: 0;clip: rect(1px 1px 1px 1px);clip: rect(1px, 1px, 1px, 1px);height: 1px;margin: -1px;overflow: hidden;padding: 0;position: absolute;width: 1px;}#sk-container-id-2 div.sk-estimator {font-family: monospace;background-color: #f0f8ff;border: 1px dotted black;border-radius: 0.25em;box-sizing: border-box;margin-bottom: 0.5em;}#sk-container-id-2 div.sk-estimator:hover {background-color: #d4ebff;}#sk-container-id-2 div.sk-parallel-item::after {content: \"\";width: 100%;border-bottom: 1px solid gray;flex-grow: 1;}#sk-container-id-2 div.sk-label:hover label.sk-toggleable__label {background-color: #d4ebff;}#sk-container-id-2 div.sk-serial::before {content: \"\";position: absolute;border-left: 1px solid gray;box-sizing: border-box;top: 0;bottom: 0;left: 50%;z-index: 0;}#sk-container-id-2 div.sk-serial {display: flex;flex-direction: column;align-items: center;background-color: white;padding-right: 0.2em;padding-left: 0.2em;position: relative;}#sk-container-id-2 div.sk-item {position: relative;z-index: 1;}#sk-container-id-2 div.sk-parallel {display: flex;align-items: stretch;justify-content: center;background-color: white;position: relative;}#sk-container-id-2 div.sk-item::before, #sk-container-id-2 div.sk-parallel-item::before {content: \"\";position: absolute;border-left: 1px solid gray;box-sizing: border-box;top: 0;bottom: 0;left: 50%;z-index: -1;}#sk-container-id-2 div.sk-parallel-item {display: flex;flex-direction: column;z-index: 1;position: relative;background-color: white;}#sk-container-id-2 div.sk-parallel-item:first-child::after {align-self: flex-end;width: 50%;}#sk-container-id-2 div.sk-parallel-item:last-child::after {align-self: flex-start;width: 50%;}#sk-container-id-2 div.sk-parallel-item:only-child::after {width: 0;}#sk-container-id-2 div.sk-dashed-wrapped {border: 1px dashed gray;margin: 0 0.4em 0.5em 0.4em;box-sizing: border-box;padding-bottom: 0.4em;background-color: white;}#sk-container-id-2 div.sk-label label {font-family: monospace;font-weight: bold;display: inline-block;line-height: 1.2em;}#sk-container-id-2 div.sk-label-container {text-align: center;}#sk-container-id-2 div.sk-container {/* jupyter's `normalize.less` sets `[hidden] { display: none; }` but bootstrap.min.css set `[hidden] { display: none !important; }` so we also need the `!important` here to be able to override the default hidden behavior on the sphinx rendered scikit-learn.org. See: https://github.com/scikit-learn/scikit-learn/issues/21755 */display: inline-block !important;position: relative;}#sk-container-id-2 div.sk-text-repr-fallback {display: none;}</style><div id=\"sk-container-id-2\" class=\"sk-top-container\"><div class=\"sk-text-repr-fallback\"><pre>GradientBoostingClassifier(max_depth=5, n_estimators=150, random_state=33)</pre><b>In a Jupyter environment, please rerun this cell to show the HTML representation or trust the notebook. <br />On GitHub, the HTML representation is unable to render, please try loading this page with nbviewer.org.</b></div><div class=\"sk-container\" hidden><div class=\"sk-item\"><div class=\"sk-estimator sk-toggleable\"><input class=\"sk-toggleable__control sk-hidden--visually\" id=\"sk-estimator-id-2\" type=\"checkbox\" checked><label for=\"sk-estimator-id-2\" class=\"sk-toggleable__label sk-toggleable__label-arrow\">GradientBoostingClassifier</label><div class=\"sk-toggleable__content\"><pre>GradientBoostingClassifier(max_depth=5, n_estimators=150, random_state=33)</pre></div></div></div></div></div>"
      ],
      "text/plain": [
       "GradientBoostingClassifier(max_depth=5, n_estimators=150, random_state=33)"
      ]
     },
     "execution_count": 49,
     "metadata": {},
     "output_type": "execute_result"
    }
   ],
   "source": [
    "from sklearn.model_selection import GridSearchCV\n",
    "from sklearn.ensemble import GradientBoostingClassifier\n",
    "param_grid = {\n",
    "    'n_estimators': [50, 100, 150], \n",
    "    'max_depth': [3, 4, 5], \n",
    "}\n",
    "GBCModel = GradientBoostingClassifier(random_state=33)\n",
    "grid_search = GridSearchCV(estimator=GBCModel, param_grid=param_grid, cv=5, scoring='accuracy', n_jobs=-1)\n",
    "grid_search.fit(X_train, y_train)\n",
    "print(\"Best Parameters: \", grid_search.best_params_)\n",
    "best_model = grid_search.best_estimator_\n",
    "best_model.fit(X_train, y_train)"
   ]
  },
  {
   "cell_type": "markdown",
   "id": "a920936b-fcbe-4ca7-a93a-bec5a80b4fd4",
   "metadata": {},
   "source": [
    "## evaluation"
   ]
  },
  {
   "cell_type": "code",
   "execution_count": 50,
   "id": "bf09141e-7502-4a3c-a313-d48470f8dd14",
   "metadata": {},
   "outputs": [
    {
     "name": "stdout",
     "output_type": "stream",
     "text": [
      "Classification Report is :\n",
      "                precision    recall  f1-score   support\n",
      "\n",
      "           0       0.99      0.95      0.97      3314\n",
      "           1       0.96      0.99      0.97      3385\n",
      "\n",
      "    accuracy                           0.97      6699\n",
      "   macro avg       0.97      0.97      0.97      6699\n",
      "weighted avg       0.97      0.97      0.97      6699\n",
      "\n"
     ]
    }
   ],
   "source": [
    "y_pred=best_model.predict(X_test)\n",
    "ClassificationReport = classification_report(y_test,y_pred)\n",
    "print('Classification Report is :\\n ', ClassificationReport )"
   ]
  },
  {
   "cell_type": "markdown",
   "id": "8fc7992f-8921-44f0-b8db-4e3d4d10434a",
   "metadata": {},
   "source": [
    "## train model by use gridsearchcv"
   ]
  },
  {
   "cell_type": "code",
   "execution_count": 51,
   "id": "94e9e8bb-74df-479b-97e2-528d8001aa4b",
   "metadata": {},
   "outputs": [
    {
     "name": "stdout",
     "output_type": "stream",
     "text": [
      "Best Parameters:  {'criterion': 'entropy', 'max_depth': None, 'max_features': None, 'max_leaf_nodes': None, 'min_samples_leaf': 1, 'min_samples_split': 2, 'splitter': 'best'}\n"
     ]
    },
    {
     "data": {
      "text/html": [
       "<style>#sk-container-id-3 {color: black;background-color: white;}#sk-container-id-3 pre{padding: 0;}#sk-container-id-3 div.sk-toggleable {background-color: white;}#sk-container-id-3 label.sk-toggleable__label {cursor: pointer;display: block;width: 100%;margin-bottom: 0;padding: 0.3em;box-sizing: border-box;text-align: center;}#sk-container-id-3 label.sk-toggleable__label-arrow:before {content: \"▸\";float: left;margin-right: 0.25em;color: #696969;}#sk-container-id-3 label.sk-toggleable__label-arrow:hover:before {color: black;}#sk-container-id-3 div.sk-estimator:hover label.sk-toggleable__label-arrow:before {color: black;}#sk-container-id-3 div.sk-toggleable__content {max-height: 0;max-width: 0;overflow: hidden;text-align: left;background-color: #f0f8ff;}#sk-container-id-3 div.sk-toggleable__content pre {margin: 0.2em;color: black;border-radius: 0.25em;background-color: #f0f8ff;}#sk-container-id-3 input.sk-toggleable__control:checked~div.sk-toggleable__content {max-height: 200px;max-width: 100%;overflow: auto;}#sk-container-id-3 input.sk-toggleable__control:checked~label.sk-toggleable__label-arrow:before {content: \"▾\";}#sk-container-id-3 div.sk-estimator input.sk-toggleable__control:checked~label.sk-toggleable__label {background-color: #d4ebff;}#sk-container-id-3 div.sk-label input.sk-toggleable__control:checked~label.sk-toggleable__label {background-color: #d4ebff;}#sk-container-id-3 input.sk-hidden--visually {border: 0;clip: rect(1px 1px 1px 1px);clip: rect(1px, 1px, 1px, 1px);height: 1px;margin: -1px;overflow: hidden;padding: 0;position: absolute;width: 1px;}#sk-container-id-3 div.sk-estimator {font-family: monospace;background-color: #f0f8ff;border: 1px dotted black;border-radius: 0.25em;box-sizing: border-box;margin-bottom: 0.5em;}#sk-container-id-3 div.sk-estimator:hover {background-color: #d4ebff;}#sk-container-id-3 div.sk-parallel-item::after {content: \"\";width: 100%;border-bottom: 1px solid gray;flex-grow: 1;}#sk-container-id-3 div.sk-label:hover label.sk-toggleable__label {background-color: #d4ebff;}#sk-container-id-3 div.sk-serial::before {content: \"\";position: absolute;border-left: 1px solid gray;box-sizing: border-box;top: 0;bottom: 0;left: 50%;z-index: 0;}#sk-container-id-3 div.sk-serial {display: flex;flex-direction: column;align-items: center;background-color: white;padding-right: 0.2em;padding-left: 0.2em;position: relative;}#sk-container-id-3 div.sk-item {position: relative;z-index: 1;}#sk-container-id-3 div.sk-parallel {display: flex;align-items: stretch;justify-content: center;background-color: white;position: relative;}#sk-container-id-3 div.sk-item::before, #sk-container-id-3 div.sk-parallel-item::before {content: \"\";position: absolute;border-left: 1px solid gray;box-sizing: border-box;top: 0;bottom: 0;left: 50%;z-index: -1;}#sk-container-id-3 div.sk-parallel-item {display: flex;flex-direction: column;z-index: 1;position: relative;background-color: white;}#sk-container-id-3 div.sk-parallel-item:first-child::after {align-self: flex-end;width: 50%;}#sk-container-id-3 div.sk-parallel-item:last-child::after {align-self: flex-start;width: 50%;}#sk-container-id-3 div.sk-parallel-item:only-child::after {width: 0;}#sk-container-id-3 div.sk-dashed-wrapped {border: 1px dashed gray;margin: 0 0.4em 0.5em 0.4em;box-sizing: border-box;padding-bottom: 0.4em;background-color: white;}#sk-container-id-3 div.sk-label label {font-family: monospace;font-weight: bold;display: inline-block;line-height: 1.2em;}#sk-container-id-3 div.sk-label-container {text-align: center;}#sk-container-id-3 div.sk-container {/* jupyter's `normalize.less` sets `[hidden] { display: none; }` but bootstrap.min.css set `[hidden] { display: none !important; }` so we also need the `!important` here to be able to override the default hidden behavior on the sphinx rendered scikit-learn.org. See: https://github.com/scikit-learn/scikit-learn/issues/21755 */display: inline-block !important;position: relative;}#sk-container-id-3 div.sk-text-repr-fallback {display: none;}</style><div id=\"sk-container-id-3\" class=\"sk-top-container\"><div class=\"sk-text-repr-fallback\"><pre>DecisionTreeClassifier(criterion=&#x27;entropy&#x27;, random_state=33)</pre><b>In a Jupyter environment, please rerun this cell to show the HTML representation or trust the notebook. <br />On GitHub, the HTML representation is unable to render, please try loading this page with nbviewer.org.</b></div><div class=\"sk-container\" hidden><div class=\"sk-item\"><div class=\"sk-estimator sk-toggleable\"><input class=\"sk-toggleable__control sk-hidden--visually\" id=\"sk-estimator-id-3\" type=\"checkbox\" checked><label for=\"sk-estimator-id-3\" class=\"sk-toggleable__label sk-toggleable__label-arrow\">DecisionTreeClassifier</label><div class=\"sk-toggleable__content\"><pre>DecisionTreeClassifier(criterion=&#x27;entropy&#x27;, random_state=33)</pre></div></div></div></div></div>"
      ],
      "text/plain": [
       "DecisionTreeClassifier(criterion='entropy', random_state=33)"
      ]
     },
     "execution_count": 51,
     "metadata": {},
     "output_type": "execute_result"
    }
   ],
   "source": [
    "\n",
    "from sklearn.tree import DecisionTreeClassifier\n",
    "param_grid = {\n",
    "    'criterion': ['gini', 'entropy'],\n",
    "    'splitter': ['best', 'random'],\n",
    "    'max_depth': [3, 4, 5, None],\n",
    "    'min_samples_split': [2, 5, 10],\n",
    "    'min_samples_leaf': [1, 2, 4],\n",
    "    'max_features': [None, 'sqrt', 'log2'],\n",
    "    'max_leaf_nodes': [None, 10, 20]\n",
    "}\n",
    "dtcModel = DecisionTreeClassifier(random_state=33)\n",
    "grid_search = GridSearchCV(estimator=dtcModel, param_grid=param_grid, cv=5, scoring='accuracy', n_jobs=-1)\n",
    "grid_search.fit(X_train, y_train)\n",
    "print(\"Best Parameters: \", grid_search.best_params_)\n",
    "best_model = grid_search.best_estimator_\n",
    "best_model.fit(X_train, y_train)"
   ]
  },
  {
   "cell_type": "markdown",
   "id": "9c01b28f-a351-4911-8a9c-c64cbade3afc",
   "metadata": {},
   "source": [
    "## evaluation"
   ]
  },
  {
   "cell_type": "code",
   "execution_count": 52,
   "id": "309d782b-ef5f-4769-b973-54b0e8182733",
   "metadata": {},
   "outputs": [
    {
     "name": "stdout",
     "output_type": "stream",
     "text": [
      "Classification Report is :\n",
      "                precision    recall  f1-score   support\n",
      "\n",
      "           0       0.99      0.98      0.98      3314\n",
      "           1       0.98      0.99      0.98      3385\n",
      "\n",
      "    accuracy                           0.98      6699\n",
      "   macro avg       0.98      0.98      0.98      6699\n",
      "weighted avg       0.98      0.98      0.98      6699\n",
      "\n"
     ]
    }
   ],
   "source": [
    "y_pred=best_model.predict(X_test)\n",
    "ClassificationReport = classification_report(y_test,y_pred)\n",
    "print('Classification Report is :\\n ', ClassificationReport )"
   ]
  },
  {
   "cell_type": "code",
   "execution_count": null,
   "id": "1e8ff988-27d0-44dd-b31d-b07745c083bd",
   "metadata": {},
   "outputs": [],
   "source": []
  }
 ],
 "metadata": {
  "kernelspec": {
   "display_name": "Python 3 (ipykernel)",
   "language": "python",
   "name": "python3"
  },
  "language_info": {
   "codemirror_mode": {
    "name": "ipython",
    "version": 3
   },
   "file_extension": ".py",
   "mimetype": "text/x-python",
   "name": "python",
   "nbconvert_exporter": "python",
   "pygments_lexer": "ipython3",
   "version": "3.11.7"
  }
 },
 "nbformat": 4,
 "nbformat_minor": 5
}
